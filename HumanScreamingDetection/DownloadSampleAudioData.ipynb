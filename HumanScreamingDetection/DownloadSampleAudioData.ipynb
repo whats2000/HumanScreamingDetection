{
 "cells": [
  {
   "cell_type": "code",
   "execution_count": 1,
   "metadata": {
    "collapsed": true,
    "ExecuteTime": {
     "end_time": "2023-10-09T03:14:51.098996100Z",
     "start_time": "2023-10-09T03:14:50.013454900Z"
    }
   },
   "outputs": [],
   "source": [
    "import pandas as pd"
   ]
  },
  {
   "cell_type": "code",
   "execution_count": 2,
   "outputs": [
    {
     "data": {
      "text/plain": "           # YTID  start_seconds  end_seconds positive_labels   Unnamed: 4   \n0     ---1_cCGK4M              0           10      \"/m/01g50p   /m/0284vy3  \\\n1     -20uudT97E0             30           40     \"/m/03qc9zr    /m/09x0r\"   \n2     -2yygHLdpXc             20           30    \"/m/03qc9zr\"          NaN   \n3     -3bGlOhRkAo            140          150    \"/m/03qc9zr\"          NaN   \n4     -4pUrlMafww              1           11     \"/m/03qc9zr    /m/09x0r\"   \n...           ...            ...          ...             ...          ...   \n1117  zhAUkNhQ7uM             10           20     \"/m/03qc9zr  /m/07s2xch\"   \n1118  zkWoni28n64             70           80     \"/m/03qc9zr    /m/09x0r\"   \n1119  zo10roED5Qg             70           80     \"/m/03qc9zr     /m/04rlf   \n1120  zodTMCJFKv8            110          120    \"/m/03qc9zr\"          NaN   \n1121  zpnEnQD3XuU            250          260     \"/m/03qc9zr     /m/04rlf   \n\n       Unnamed: 5 Unnamed: 6   Unnamed: 7 Unnamed: 8 Unnamed: 9 Unnamed: 10  \n0        /m/06d_3   /m/07jdr  /m/07rwm0c\"        NaN        NaN         NaN  \n1             NaN        NaN          NaN        NaN        NaN         NaN  \n2             NaN        NaN          NaN        NaN        NaN         NaN  \n3             NaN        NaN          NaN        NaN        NaN         NaN  \n4             NaN        NaN          NaN        NaN        NaN         NaN  \n...           ...        ...          ...        ...        ...         ...  \n1117          NaN        NaN          NaN        NaN        NaN         NaN  \n1118          NaN        NaN          NaN        NaN        NaN         NaN  \n1119    /m/09x0r\"        NaN          NaN        NaN        NaN         NaN  \n1120          NaN        NaN          NaN        NaN        NaN         NaN  \n1121  /t/dd00125\"        NaN          NaN        NaN        NaN         NaN  \n\n[1122 rows x 11 columns]",
      "text/html": "<div>\n<style scoped>\n    .dataframe tbody tr th:only-of-type {\n        vertical-align: middle;\n    }\n\n    .dataframe tbody tr th {\n        vertical-align: top;\n    }\n\n    .dataframe thead th {\n        text-align: right;\n    }\n</style>\n<table border=\"1\" class=\"dataframe\">\n  <thead>\n    <tr style=\"text-align: right;\">\n      <th></th>\n      <th># YTID</th>\n      <th>start_seconds</th>\n      <th>end_seconds</th>\n      <th>positive_labels</th>\n      <th>Unnamed: 4</th>\n      <th>Unnamed: 5</th>\n      <th>Unnamed: 6</th>\n      <th>Unnamed: 7</th>\n      <th>Unnamed: 8</th>\n      <th>Unnamed: 9</th>\n      <th>Unnamed: 10</th>\n    </tr>\n  </thead>\n  <tbody>\n    <tr>\n      <th>0</th>\n      <td>---1_cCGK4M</td>\n      <td>0</td>\n      <td>10</td>\n      <td>\"/m/01g50p</td>\n      <td>/m/0284vy3</td>\n      <td>/m/06d_3</td>\n      <td>/m/07jdr</td>\n      <td>/m/07rwm0c\"</td>\n      <td>NaN</td>\n      <td>NaN</td>\n      <td>NaN</td>\n    </tr>\n    <tr>\n      <th>1</th>\n      <td>-20uudT97E0</td>\n      <td>30</td>\n      <td>40</td>\n      <td>\"/m/03qc9zr</td>\n      <td>/m/09x0r\"</td>\n      <td>NaN</td>\n      <td>NaN</td>\n      <td>NaN</td>\n      <td>NaN</td>\n      <td>NaN</td>\n      <td>NaN</td>\n    </tr>\n    <tr>\n      <th>2</th>\n      <td>-2yygHLdpXc</td>\n      <td>20</td>\n      <td>30</td>\n      <td>\"/m/03qc9zr\"</td>\n      <td>NaN</td>\n      <td>NaN</td>\n      <td>NaN</td>\n      <td>NaN</td>\n      <td>NaN</td>\n      <td>NaN</td>\n      <td>NaN</td>\n    </tr>\n    <tr>\n      <th>3</th>\n      <td>-3bGlOhRkAo</td>\n      <td>140</td>\n      <td>150</td>\n      <td>\"/m/03qc9zr\"</td>\n      <td>NaN</td>\n      <td>NaN</td>\n      <td>NaN</td>\n      <td>NaN</td>\n      <td>NaN</td>\n      <td>NaN</td>\n      <td>NaN</td>\n    </tr>\n    <tr>\n      <th>4</th>\n      <td>-4pUrlMafww</td>\n      <td>1</td>\n      <td>11</td>\n      <td>\"/m/03qc9zr</td>\n      <td>/m/09x0r\"</td>\n      <td>NaN</td>\n      <td>NaN</td>\n      <td>NaN</td>\n      <td>NaN</td>\n      <td>NaN</td>\n      <td>NaN</td>\n    </tr>\n    <tr>\n      <th>...</th>\n      <td>...</td>\n      <td>...</td>\n      <td>...</td>\n      <td>...</td>\n      <td>...</td>\n      <td>...</td>\n      <td>...</td>\n      <td>...</td>\n      <td>...</td>\n      <td>...</td>\n      <td>...</td>\n    </tr>\n    <tr>\n      <th>1117</th>\n      <td>zhAUkNhQ7uM</td>\n      <td>10</td>\n      <td>20</td>\n      <td>\"/m/03qc9zr</td>\n      <td>/m/07s2xch\"</td>\n      <td>NaN</td>\n      <td>NaN</td>\n      <td>NaN</td>\n      <td>NaN</td>\n      <td>NaN</td>\n      <td>NaN</td>\n    </tr>\n    <tr>\n      <th>1118</th>\n      <td>zkWoni28n64</td>\n      <td>70</td>\n      <td>80</td>\n      <td>\"/m/03qc9zr</td>\n      <td>/m/09x0r\"</td>\n      <td>NaN</td>\n      <td>NaN</td>\n      <td>NaN</td>\n      <td>NaN</td>\n      <td>NaN</td>\n      <td>NaN</td>\n    </tr>\n    <tr>\n      <th>1119</th>\n      <td>zo10roED5Qg</td>\n      <td>70</td>\n      <td>80</td>\n      <td>\"/m/03qc9zr</td>\n      <td>/m/04rlf</td>\n      <td>/m/09x0r\"</td>\n      <td>NaN</td>\n      <td>NaN</td>\n      <td>NaN</td>\n      <td>NaN</td>\n      <td>NaN</td>\n    </tr>\n    <tr>\n      <th>1120</th>\n      <td>zodTMCJFKv8</td>\n      <td>110</td>\n      <td>120</td>\n      <td>\"/m/03qc9zr\"</td>\n      <td>NaN</td>\n      <td>NaN</td>\n      <td>NaN</td>\n      <td>NaN</td>\n      <td>NaN</td>\n      <td>NaN</td>\n      <td>NaN</td>\n    </tr>\n    <tr>\n      <th>1121</th>\n      <td>zpnEnQD3XuU</td>\n      <td>250</td>\n      <td>260</td>\n      <td>\"/m/03qc9zr</td>\n      <td>/m/04rlf</td>\n      <td>/t/dd00125\"</td>\n      <td>NaN</td>\n      <td>NaN</td>\n      <td>NaN</td>\n      <td>NaN</td>\n      <td>NaN</td>\n    </tr>\n  </tbody>\n</table>\n<p>1122 rows × 11 columns</p>\n</div>"
     },
     "execution_count": 2,
     "metadata": {},
     "output_type": "execute_result"
    }
   ],
   "source": [
    "# Load the CSV file, skipping the first two rows and using the third row as column names\n",
    "download_list = pd.read_csv('Data/ScreamingDataLink.csv', skiprows=1, header=1)\n",
    "\n",
    "# Display the loaded data\n",
    "download_list"
   ],
   "metadata": {
    "collapsed": false,
    "ExecuteTime": {
     "end_time": "2023-10-09T03:14:51.136501800Z",
     "start_time": "2023-10-09T03:14:51.098996100Z"
    }
   }
  },
  {
   "cell_type": "code",
   "execution_count": 3,
   "outputs": [
    {
     "name": "stdout",
     "output_type": "stream",
     "text": [
      "<class 'pandas.core.frame.DataFrame'>\n",
      "RangeIndex: 1122 entries, 0 to 1121\n",
      "Data columns (total 11 columns):\n",
      " #   Column           Non-Null Count  Dtype \n",
      "---  ------           --------------  ----- \n",
      " 0   # YTID           1122 non-null   object\n",
      " 1   start_seconds    1122 non-null   int64 \n",
      " 2   end_seconds      1122 non-null   int64 \n",
      " 3   positive_labels  1122 non-null   object\n",
      " 4   Unnamed: 4       846 non-null    object\n",
      " 5   Unnamed: 5       379 non-null    object\n",
      " 6   Unnamed: 6       138 non-null    object\n",
      " 7   Unnamed: 7       43 non-null     object\n",
      " 8   Unnamed: 8       6 non-null      object\n",
      " 9   Unnamed: 9       2 non-null      object\n",
      " 10  Unnamed: 10      1 non-null      object\n",
      "dtypes: int64(2), object(9)\n",
      "memory usage: 96.6+ KB\n"
     ]
    }
   ],
   "source": [
    "download_list.info()"
   ],
   "metadata": {
    "collapsed": false,
    "ExecuteTime": {
     "end_time": "2023-10-09T03:14:54.813814400Z",
     "start_time": "2023-10-09T03:14:54.811303600Z"
    }
   }
  },
  {
   "cell_type": "code",
   "execution_count": 4,
   "outputs": [
    {
     "data": {
      "text/plain": "           # YTID  start_seconds  end_seconds positive_labels   Unnamed: 4   \n0     ---1_cCGK4M              0           10      \"/m/01g50p   /m/0284vy3  \\\n1     -20uudT97E0             30           40     \"/m/03qc9zr    /m/09x0r\"   \n2     -2yygHLdpXc             20           30    \"/m/03qc9zr\"          NaN   \n3     -3bGlOhRkAo            140          150    \"/m/03qc9zr\"          NaN   \n4     -4pUrlMafww              1           11     \"/m/03qc9zr    /m/09x0r\"   \n...           ...            ...          ...             ...          ...   \n1099  zhAUkNhQ7uM             10           20     \"/m/03qc9zr  /m/07s2xch\"   \n1100  zkWoni28n64             70           80     \"/m/03qc9zr    /m/09x0r\"   \n1101  zo10roED5Qg             70           80     \"/m/03qc9zr     /m/04rlf   \n1102  zodTMCJFKv8            110          120    \"/m/03qc9zr\"          NaN   \n1103  zpnEnQD3XuU            250          260     \"/m/03qc9zr     /m/04rlf   \n\n       Unnamed: 5 Unnamed: 6   Unnamed: 7 Unnamed: 8 Unnamed: 9 Unnamed: 10  \n0        /m/06d_3   /m/07jdr  /m/07rwm0c\"        NaN        NaN         NaN  \n1             NaN        NaN          NaN        NaN        NaN         NaN  \n2             NaN        NaN          NaN        NaN        NaN         NaN  \n3             NaN        NaN          NaN        NaN        NaN         NaN  \n4             NaN        NaN          NaN        NaN        NaN         NaN  \n...           ...        ...          ...        ...        ...         ...  \n1099          NaN        NaN          NaN        NaN        NaN         NaN  \n1100          NaN        NaN          NaN        NaN        NaN         NaN  \n1101    /m/09x0r\"        NaN          NaN        NaN        NaN         NaN  \n1102          NaN        NaN          NaN        NaN        NaN         NaN  \n1103  /t/dd00125\"        NaN          NaN        NaN        NaN         NaN  \n\n[1104 rows x 11 columns]",
      "text/html": "<div>\n<style scoped>\n    .dataframe tbody tr th:only-of-type {\n        vertical-align: middle;\n    }\n\n    .dataframe tbody tr th {\n        vertical-align: top;\n    }\n\n    .dataframe thead th {\n        text-align: right;\n    }\n</style>\n<table border=\"1\" class=\"dataframe\">\n  <thead>\n    <tr style=\"text-align: right;\">\n      <th></th>\n      <th># YTID</th>\n      <th>start_seconds</th>\n      <th>end_seconds</th>\n      <th>positive_labels</th>\n      <th>Unnamed: 4</th>\n      <th>Unnamed: 5</th>\n      <th>Unnamed: 6</th>\n      <th>Unnamed: 7</th>\n      <th>Unnamed: 8</th>\n      <th>Unnamed: 9</th>\n      <th>Unnamed: 10</th>\n    </tr>\n  </thead>\n  <tbody>\n    <tr>\n      <th>0</th>\n      <td>---1_cCGK4M</td>\n      <td>0</td>\n      <td>10</td>\n      <td>\"/m/01g50p</td>\n      <td>/m/0284vy3</td>\n      <td>/m/06d_3</td>\n      <td>/m/07jdr</td>\n      <td>/m/07rwm0c\"</td>\n      <td>NaN</td>\n      <td>NaN</td>\n      <td>NaN</td>\n    </tr>\n    <tr>\n      <th>1</th>\n      <td>-20uudT97E0</td>\n      <td>30</td>\n      <td>40</td>\n      <td>\"/m/03qc9zr</td>\n      <td>/m/09x0r\"</td>\n      <td>NaN</td>\n      <td>NaN</td>\n      <td>NaN</td>\n      <td>NaN</td>\n      <td>NaN</td>\n      <td>NaN</td>\n    </tr>\n    <tr>\n      <th>2</th>\n      <td>-2yygHLdpXc</td>\n      <td>20</td>\n      <td>30</td>\n      <td>\"/m/03qc9zr\"</td>\n      <td>NaN</td>\n      <td>NaN</td>\n      <td>NaN</td>\n      <td>NaN</td>\n      <td>NaN</td>\n      <td>NaN</td>\n      <td>NaN</td>\n    </tr>\n    <tr>\n      <th>3</th>\n      <td>-3bGlOhRkAo</td>\n      <td>140</td>\n      <td>150</td>\n      <td>\"/m/03qc9zr\"</td>\n      <td>NaN</td>\n      <td>NaN</td>\n      <td>NaN</td>\n      <td>NaN</td>\n      <td>NaN</td>\n      <td>NaN</td>\n      <td>NaN</td>\n    </tr>\n    <tr>\n      <th>4</th>\n      <td>-4pUrlMafww</td>\n      <td>1</td>\n      <td>11</td>\n      <td>\"/m/03qc9zr</td>\n      <td>/m/09x0r\"</td>\n      <td>NaN</td>\n      <td>NaN</td>\n      <td>NaN</td>\n      <td>NaN</td>\n      <td>NaN</td>\n      <td>NaN</td>\n    </tr>\n    <tr>\n      <th>...</th>\n      <td>...</td>\n      <td>...</td>\n      <td>...</td>\n      <td>...</td>\n      <td>...</td>\n      <td>...</td>\n      <td>...</td>\n      <td>...</td>\n      <td>...</td>\n      <td>...</td>\n      <td>...</td>\n    </tr>\n    <tr>\n      <th>1099</th>\n      <td>zhAUkNhQ7uM</td>\n      <td>10</td>\n      <td>20</td>\n      <td>\"/m/03qc9zr</td>\n      <td>/m/07s2xch\"</td>\n      <td>NaN</td>\n      <td>NaN</td>\n      <td>NaN</td>\n      <td>NaN</td>\n      <td>NaN</td>\n      <td>NaN</td>\n    </tr>\n    <tr>\n      <th>1100</th>\n      <td>zkWoni28n64</td>\n      <td>70</td>\n      <td>80</td>\n      <td>\"/m/03qc9zr</td>\n      <td>/m/09x0r\"</td>\n      <td>NaN</td>\n      <td>NaN</td>\n      <td>NaN</td>\n      <td>NaN</td>\n      <td>NaN</td>\n      <td>NaN</td>\n    </tr>\n    <tr>\n      <th>1101</th>\n      <td>zo10roED5Qg</td>\n      <td>70</td>\n      <td>80</td>\n      <td>\"/m/03qc9zr</td>\n      <td>/m/04rlf</td>\n      <td>/m/09x0r\"</td>\n      <td>NaN</td>\n      <td>NaN</td>\n      <td>NaN</td>\n      <td>NaN</td>\n      <td>NaN</td>\n    </tr>\n    <tr>\n      <th>1102</th>\n      <td>zodTMCJFKv8</td>\n      <td>110</td>\n      <td>120</td>\n      <td>\"/m/03qc9zr\"</td>\n      <td>NaN</td>\n      <td>NaN</td>\n      <td>NaN</td>\n      <td>NaN</td>\n      <td>NaN</td>\n      <td>NaN</td>\n      <td>NaN</td>\n    </tr>\n    <tr>\n      <th>1103</th>\n      <td>zpnEnQD3XuU</td>\n      <td>250</td>\n      <td>260</td>\n      <td>\"/m/03qc9zr</td>\n      <td>/m/04rlf</td>\n      <td>/t/dd00125\"</td>\n      <td>NaN</td>\n      <td>NaN</td>\n      <td>NaN</td>\n      <td>NaN</td>\n      <td>NaN</td>\n    </tr>\n  </tbody>\n</table>\n<p>1104 rows × 11 columns</p>\n</div>"
     },
     "execution_count": 4,
     "metadata": {},
     "output_type": "execute_result"
    }
   ],
   "source": [
    "# Drop rows where the value in the '# YTID' column is equal to \"#NAME?\"\n",
    "download_list = download_list[download_list['# YTID'] != '#NAME?']\n",
    "\n",
    "# Reset the index of the DataFrame after dropping rows\n",
    "download_list.reset_index(drop=True, inplace=True)\n",
    "\n",
    "# Display the updated DataFrame\n",
    "download_list"
   ],
   "metadata": {
    "collapsed": false,
    "ExecuteTime": {
     "end_time": "2023-10-09T03:14:57.066767Z",
     "start_time": "2023-10-09T03:14:57.052748500Z"
    }
   }
  },
  {
   "cell_type": "code",
   "execution_count": 5,
   "outputs": [],
   "source": [
    "# Function to trim and resample audio using FFmpeg\n",
    "def trim_and_resample_audio(input_file, output_file, start_time, end_time, target_sample_rate):\n",
    "    command = (\n",
    "        f'ffmpeg -loglevel quiet -i \"{input_file}\" -ss {start_time} -to {end_time} -ar {target_sample_rate} \"{output_file}\"'\n",
    "    )\n",
    "    os.system(command)"
   ],
   "metadata": {
    "collapsed": false,
    "ExecuteTime": {
     "end_time": "2023-10-09T03:14:59.077905100Z",
     "start_time": "2023-10-09T03:14:59.070362600Z"
    }
   }
  },
  {
   "cell_type": "code",
   "execution_count": null,
   "outputs": [],
   "source": [
    "import os\n",
    "import yt_dlp\n",
    "\n",
    "# Create a directory to store downloaded audio files if it doesn't exist\n",
    "output_dir = 'Data/Screaming'\n",
    "os.makedirs(output_dir, exist_ok=True)\n",
    "\n",
    "# Create a yt-dlp instance\n",
    "ydl_opts = {\n",
    "    'format': 'bestaudio/best',\n",
    "    'postprocessors': [{\n",
    "        'key': 'FFmpegExtractAudio',\n",
    "        'preferredcodec': 'wav',\n",
    "    }],\n",
    "    'outtmpl': os.path.join(output_dir, '%(id)s.%(ext)s'),\n",
    "}\n",
    "\n",
    "ydl = yt_dlp.YoutubeDL(ydl_opts)\n",
    "\n",
    "# Loop through each row in the DataFrame and download the audio\n",
    "for index, row in download_list.iterrows():\n",
    "    yt_id = row['# YTID']\n",
    "    start_seconds = row['start_seconds']\n",
    "    end_seconds = row['end_seconds']\n",
    "\n",
    "    # Construct the URL with time offsets\n",
    "    url = f'https://www.youtube.com/watch?v={yt_id}'\n",
    "\n",
    "    try:\n",
    "        # Download the audio\n",
    "        ydl.download([url])\n",
    "        print(f\"Downloaded audio for YTID {yt_id}\")\n",
    "\n",
    "        # Rename the downloaded file to match the YTID\n",
    "        downloaded_file = os.path.join(output_dir, f\"{yt_id}.wav\")\n",
    "        trimmed_file = os.path.join(output_dir, f\"{yt_id}_out.wav\")\n",
    "\n",
    "        # Trim the audio using FFmpeg\n",
    "        trim_and_resample_audio(downloaded_file, trimmed_file, start_seconds, end_seconds, 44100)\n",
    "\n",
    "        # Remove the original downloaded file\n",
    "        os.remove(downloaded_file)\n",
    "\n",
    "        print(f\"Trimmed audio for YTID {yt_id}\")\n",
    "    except Exception as e:\n",
    "        print(f\"Error downloading audio for YTID {yt_id}: {str(e)}\")\n",
    "\n",
    "print(\"Download and trimming completed.\")"
   ],
   "metadata": {
    "collapsed": false
   }
  },
  {
   "cell_type": "code",
   "execution_count": null,
   "outputs": [],
   "source": [],
   "metadata": {
    "collapsed": false
   }
  }
 ],
 "metadata": {
  "kernelspec": {
   "display_name": "Python 3",
   "language": "python",
   "name": "python3"
  },
  "language_info": {
   "codemirror_mode": {
    "name": "ipython",
    "version": 2
   },
   "file_extension": ".py",
   "mimetype": "text/x-python",
   "name": "python",
   "nbconvert_exporter": "python",
   "pygments_lexer": "ipython2",
   "version": "2.7.6"
  }
 },
 "nbformat": 4,
 "nbformat_minor": 0
}
