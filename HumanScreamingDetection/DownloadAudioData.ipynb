{
 "cells": [
  {
   "cell_type": "code",
   "execution_count": 1,
   "metadata": {
    "collapsed": true,
    "ExecuteTime": {
     "end_time": "2023-10-08T10:37:33.153152700Z",
     "start_time": "2023-10-08T10:37:32.275428100Z"
    }
   },
   "outputs": [],
   "source": [
    "import pandas as pd"
   ]
  },
  {
   "cell_type": "code",
   "execution_count": 2,
   "outputs": [
    {
     "data": {
      "text/plain": "           # YTID  start_seconds  end_seconds positive_labels   Unnamed: 4   \n0     ---1_cCGK4M              0           10      \"/m/01g50p   /m/0284vy3  \\\n1     -20uudT97E0             30           40     \"/m/03qc9zr    /m/09x0r\"   \n2     -2yygHLdpXc             20           30    \"/m/03qc9zr\"          NaN   \n3     -3bGlOhRkAo            140          150    \"/m/03qc9zr\"          NaN   \n4     -4pUrlMafww              1           11     \"/m/03qc9zr    /m/09x0r\"   \n...           ...            ...          ...             ...          ...   \n1117  zhAUkNhQ7uM             10           20     \"/m/03qc9zr  /m/07s2xch\"   \n1118  zkWoni28n64             70           80     \"/m/03qc9zr    /m/09x0r\"   \n1119  zo10roED5Qg             70           80     \"/m/03qc9zr     /m/04rlf   \n1120  zodTMCJFKv8            110          120    \"/m/03qc9zr\"          NaN   \n1121  zpnEnQD3XuU            250          260     \"/m/03qc9zr     /m/04rlf   \n\n       Unnamed: 5 Unnamed: 6   Unnamed: 7 Unnamed: 8 Unnamed: 9 Unnamed: 10  \n0        /m/06d_3   /m/07jdr  /m/07rwm0c\"        NaN        NaN         NaN  \n1             NaN        NaN          NaN        NaN        NaN         NaN  \n2             NaN        NaN          NaN        NaN        NaN         NaN  \n3             NaN        NaN          NaN        NaN        NaN         NaN  \n4             NaN        NaN          NaN        NaN        NaN         NaN  \n...           ...        ...          ...        ...        ...         ...  \n1117          NaN        NaN          NaN        NaN        NaN         NaN  \n1118          NaN        NaN          NaN        NaN        NaN         NaN  \n1119    /m/09x0r\"        NaN          NaN        NaN        NaN         NaN  \n1120          NaN        NaN          NaN        NaN        NaN         NaN  \n1121  /t/dd00125\"        NaN          NaN        NaN        NaN         NaN  \n\n[1122 rows x 11 columns]",
      "text/html": "<div>\n<style scoped>\n    .dataframe tbody tr th:only-of-type {\n        vertical-align: middle;\n    }\n\n    .dataframe tbody tr th {\n        vertical-align: top;\n    }\n\n    .dataframe thead th {\n        text-align: right;\n    }\n</style>\n<table border=\"1\" class=\"dataframe\">\n  <thead>\n    <tr style=\"text-align: right;\">\n      <th></th>\n      <th># YTID</th>\n      <th>start_seconds</th>\n      <th>end_seconds</th>\n      <th>positive_labels</th>\n      <th>Unnamed: 4</th>\n      <th>Unnamed: 5</th>\n      <th>Unnamed: 6</th>\n      <th>Unnamed: 7</th>\n      <th>Unnamed: 8</th>\n      <th>Unnamed: 9</th>\n      <th>Unnamed: 10</th>\n    </tr>\n  </thead>\n  <tbody>\n    <tr>\n      <th>0</th>\n      <td>---1_cCGK4M</td>\n      <td>0</td>\n      <td>10</td>\n      <td>\"/m/01g50p</td>\n      <td>/m/0284vy3</td>\n      <td>/m/06d_3</td>\n      <td>/m/07jdr</td>\n      <td>/m/07rwm0c\"</td>\n      <td>NaN</td>\n      <td>NaN</td>\n      <td>NaN</td>\n    </tr>\n    <tr>\n      <th>1</th>\n      <td>-20uudT97E0</td>\n      <td>30</td>\n      <td>40</td>\n      <td>\"/m/03qc9zr</td>\n      <td>/m/09x0r\"</td>\n      <td>NaN</td>\n      <td>NaN</td>\n      <td>NaN</td>\n      <td>NaN</td>\n      <td>NaN</td>\n      <td>NaN</td>\n    </tr>\n    <tr>\n      <th>2</th>\n      <td>-2yygHLdpXc</td>\n      <td>20</td>\n      <td>30</td>\n      <td>\"/m/03qc9zr\"</td>\n      <td>NaN</td>\n      <td>NaN</td>\n      <td>NaN</td>\n      <td>NaN</td>\n      <td>NaN</td>\n      <td>NaN</td>\n      <td>NaN</td>\n    </tr>\n    <tr>\n      <th>3</th>\n      <td>-3bGlOhRkAo</td>\n      <td>140</td>\n      <td>150</td>\n      <td>\"/m/03qc9zr\"</td>\n      <td>NaN</td>\n      <td>NaN</td>\n      <td>NaN</td>\n      <td>NaN</td>\n      <td>NaN</td>\n      <td>NaN</td>\n      <td>NaN</td>\n    </tr>\n    <tr>\n      <th>4</th>\n      <td>-4pUrlMafww</td>\n      <td>1</td>\n      <td>11</td>\n      <td>\"/m/03qc9zr</td>\n      <td>/m/09x0r\"</td>\n      <td>NaN</td>\n      <td>NaN</td>\n      <td>NaN</td>\n      <td>NaN</td>\n      <td>NaN</td>\n      <td>NaN</td>\n    </tr>\n    <tr>\n      <th>...</th>\n      <td>...</td>\n      <td>...</td>\n      <td>...</td>\n      <td>...</td>\n      <td>...</td>\n      <td>...</td>\n      <td>...</td>\n      <td>...</td>\n      <td>...</td>\n      <td>...</td>\n      <td>...</td>\n    </tr>\n    <tr>\n      <th>1117</th>\n      <td>zhAUkNhQ7uM</td>\n      <td>10</td>\n      <td>20</td>\n      <td>\"/m/03qc9zr</td>\n      <td>/m/07s2xch\"</td>\n      <td>NaN</td>\n      <td>NaN</td>\n      <td>NaN</td>\n      <td>NaN</td>\n      <td>NaN</td>\n      <td>NaN</td>\n    </tr>\n    <tr>\n      <th>1118</th>\n      <td>zkWoni28n64</td>\n      <td>70</td>\n      <td>80</td>\n      <td>\"/m/03qc9zr</td>\n      <td>/m/09x0r\"</td>\n      <td>NaN</td>\n      <td>NaN</td>\n      <td>NaN</td>\n      <td>NaN</td>\n      <td>NaN</td>\n      <td>NaN</td>\n    </tr>\n    <tr>\n      <th>1119</th>\n      <td>zo10roED5Qg</td>\n      <td>70</td>\n      <td>80</td>\n      <td>\"/m/03qc9zr</td>\n      <td>/m/04rlf</td>\n      <td>/m/09x0r\"</td>\n      <td>NaN</td>\n      <td>NaN</td>\n      <td>NaN</td>\n      <td>NaN</td>\n      <td>NaN</td>\n    </tr>\n    <tr>\n      <th>1120</th>\n      <td>zodTMCJFKv8</td>\n      <td>110</td>\n      <td>120</td>\n      <td>\"/m/03qc9zr\"</td>\n      <td>NaN</td>\n      <td>NaN</td>\n      <td>NaN</td>\n      <td>NaN</td>\n      <td>NaN</td>\n      <td>NaN</td>\n      <td>NaN</td>\n    </tr>\n    <tr>\n      <th>1121</th>\n      <td>zpnEnQD3XuU</td>\n      <td>250</td>\n      <td>260</td>\n      <td>\"/m/03qc9zr</td>\n      <td>/m/04rlf</td>\n      <td>/t/dd00125\"</td>\n      <td>NaN</td>\n      <td>NaN</td>\n      <td>NaN</td>\n      <td>NaN</td>\n      <td>NaN</td>\n    </tr>\n  </tbody>\n</table>\n<p>1122 rows × 11 columns</p>\n</div>"
     },
     "execution_count": 2,
     "metadata": {},
     "output_type": "execute_result"
    }
   ],
   "source": [
    "# Load the CSV file, skipping the first two rows and using the third row as column names\n",
    "download_list = pd.read_csv('Data/ScreamingDataLink.csv', skiprows=1, header=1)\n",
    "\n",
    "# Display the loaded data\n",
    "download_list"
   ],
   "metadata": {
    "collapsed": false,
    "ExecuteTime": {
     "end_time": "2023-10-08T10:37:34.120731300Z",
     "start_time": "2023-10-08T10:37:34.080597700Z"
    }
   }
  },
  {
   "cell_type": "code",
   "execution_count": 3,
   "outputs": [
    {
     "name": "stdout",
     "output_type": "stream",
     "text": [
      "<class 'pandas.core.frame.DataFrame'>\n",
      "RangeIndex: 1122 entries, 0 to 1121\n",
      "Data columns (total 11 columns):\n",
      " #   Column           Non-Null Count  Dtype \n",
      "---  ------           --------------  ----- \n",
      " 0   # YTID           1122 non-null   object\n",
      " 1   start_seconds    1122 non-null   int64 \n",
      " 2   end_seconds      1122 non-null   int64 \n",
      " 3   positive_labels  1122 non-null   object\n",
      " 4   Unnamed: 4       846 non-null    object\n",
      " 5   Unnamed: 5       379 non-null    object\n",
      " 6   Unnamed: 6       138 non-null    object\n",
      " 7   Unnamed: 7       43 non-null     object\n",
      " 8   Unnamed: 8       6 non-null      object\n",
      " 9   Unnamed: 9       2 non-null      object\n",
      " 10  Unnamed: 10      1 non-null      object\n",
      "dtypes: int64(2), object(9)\n",
      "memory usage: 96.6+ KB\n"
     ]
    }
   ],
   "source": [
    "download_list.info()"
   ],
   "metadata": {
    "collapsed": false,
    "ExecuteTime": {
     "end_time": "2023-10-08T10:37:34.905093900Z",
     "start_time": "2023-10-08T10:37:34.894093500Z"
    }
   }
  },
  {
   "cell_type": "code",
   "execution_count": 4,
   "outputs": [
    {
     "data": {
      "text/plain": "           # YTID  start_seconds  end_seconds positive_labels   Unnamed: 4   \n0     ---1_cCGK4M              0           10      \"/m/01g50p   /m/0284vy3  \\\n1     -20uudT97E0             30           40     \"/m/03qc9zr    /m/09x0r\"   \n2     -2yygHLdpXc             20           30    \"/m/03qc9zr\"          NaN   \n3     -3bGlOhRkAo            140          150    \"/m/03qc9zr\"          NaN   \n4     -4pUrlMafww              1           11     \"/m/03qc9zr    /m/09x0r\"   \n...           ...            ...          ...             ...          ...   \n1099  zhAUkNhQ7uM             10           20     \"/m/03qc9zr  /m/07s2xch\"   \n1100  zkWoni28n64             70           80     \"/m/03qc9zr    /m/09x0r\"   \n1101  zo10roED5Qg             70           80     \"/m/03qc9zr     /m/04rlf   \n1102  zodTMCJFKv8            110          120    \"/m/03qc9zr\"          NaN   \n1103  zpnEnQD3XuU            250          260     \"/m/03qc9zr     /m/04rlf   \n\n       Unnamed: 5 Unnamed: 6   Unnamed: 7 Unnamed: 8 Unnamed: 9 Unnamed: 10  \n0        /m/06d_3   /m/07jdr  /m/07rwm0c\"        NaN        NaN         NaN  \n1             NaN        NaN          NaN        NaN        NaN         NaN  \n2             NaN        NaN          NaN        NaN        NaN         NaN  \n3             NaN        NaN          NaN        NaN        NaN         NaN  \n4             NaN        NaN          NaN        NaN        NaN         NaN  \n...           ...        ...          ...        ...        ...         ...  \n1099          NaN        NaN          NaN        NaN        NaN         NaN  \n1100          NaN        NaN          NaN        NaN        NaN         NaN  \n1101    /m/09x0r\"        NaN          NaN        NaN        NaN         NaN  \n1102          NaN        NaN          NaN        NaN        NaN         NaN  \n1103  /t/dd00125\"        NaN          NaN        NaN        NaN         NaN  \n\n[1104 rows x 11 columns]",
      "text/html": "<div>\n<style scoped>\n    .dataframe tbody tr th:only-of-type {\n        vertical-align: middle;\n    }\n\n    .dataframe tbody tr th {\n        vertical-align: top;\n    }\n\n    .dataframe thead th {\n        text-align: right;\n    }\n</style>\n<table border=\"1\" class=\"dataframe\">\n  <thead>\n    <tr style=\"text-align: right;\">\n      <th></th>\n      <th># YTID</th>\n      <th>start_seconds</th>\n      <th>end_seconds</th>\n      <th>positive_labels</th>\n      <th>Unnamed: 4</th>\n      <th>Unnamed: 5</th>\n      <th>Unnamed: 6</th>\n      <th>Unnamed: 7</th>\n      <th>Unnamed: 8</th>\n      <th>Unnamed: 9</th>\n      <th>Unnamed: 10</th>\n    </tr>\n  </thead>\n  <tbody>\n    <tr>\n      <th>0</th>\n      <td>---1_cCGK4M</td>\n      <td>0</td>\n      <td>10</td>\n      <td>\"/m/01g50p</td>\n      <td>/m/0284vy3</td>\n      <td>/m/06d_3</td>\n      <td>/m/07jdr</td>\n      <td>/m/07rwm0c\"</td>\n      <td>NaN</td>\n      <td>NaN</td>\n      <td>NaN</td>\n    </tr>\n    <tr>\n      <th>1</th>\n      <td>-20uudT97E0</td>\n      <td>30</td>\n      <td>40</td>\n      <td>\"/m/03qc9zr</td>\n      <td>/m/09x0r\"</td>\n      <td>NaN</td>\n      <td>NaN</td>\n      <td>NaN</td>\n      <td>NaN</td>\n      <td>NaN</td>\n      <td>NaN</td>\n    </tr>\n    <tr>\n      <th>2</th>\n      <td>-2yygHLdpXc</td>\n      <td>20</td>\n      <td>30</td>\n      <td>\"/m/03qc9zr\"</td>\n      <td>NaN</td>\n      <td>NaN</td>\n      <td>NaN</td>\n      <td>NaN</td>\n      <td>NaN</td>\n      <td>NaN</td>\n      <td>NaN</td>\n    </tr>\n    <tr>\n      <th>3</th>\n      <td>-3bGlOhRkAo</td>\n      <td>140</td>\n      <td>150</td>\n      <td>\"/m/03qc9zr\"</td>\n      <td>NaN</td>\n      <td>NaN</td>\n      <td>NaN</td>\n      <td>NaN</td>\n      <td>NaN</td>\n      <td>NaN</td>\n      <td>NaN</td>\n    </tr>\n    <tr>\n      <th>4</th>\n      <td>-4pUrlMafww</td>\n      <td>1</td>\n      <td>11</td>\n      <td>\"/m/03qc9zr</td>\n      <td>/m/09x0r\"</td>\n      <td>NaN</td>\n      <td>NaN</td>\n      <td>NaN</td>\n      <td>NaN</td>\n      <td>NaN</td>\n      <td>NaN</td>\n    </tr>\n    <tr>\n      <th>...</th>\n      <td>...</td>\n      <td>...</td>\n      <td>...</td>\n      <td>...</td>\n      <td>...</td>\n      <td>...</td>\n      <td>...</td>\n      <td>...</td>\n      <td>...</td>\n      <td>...</td>\n      <td>...</td>\n    </tr>\n    <tr>\n      <th>1099</th>\n      <td>zhAUkNhQ7uM</td>\n      <td>10</td>\n      <td>20</td>\n      <td>\"/m/03qc9zr</td>\n      <td>/m/07s2xch\"</td>\n      <td>NaN</td>\n      <td>NaN</td>\n      <td>NaN</td>\n      <td>NaN</td>\n      <td>NaN</td>\n      <td>NaN</td>\n    </tr>\n    <tr>\n      <th>1100</th>\n      <td>zkWoni28n64</td>\n      <td>70</td>\n      <td>80</td>\n      <td>\"/m/03qc9zr</td>\n      <td>/m/09x0r\"</td>\n      <td>NaN</td>\n      <td>NaN</td>\n      <td>NaN</td>\n      <td>NaN</td>\n      <td>NaN</td>\n      <td>NaN</td>\n    </tr>\n    <tr>\n      <th>1101</th>\n      <td>zo10roED5Qg</td>\n      <td>70</td>\n      <td>80</td>\n      <td>\"/m/03qc9zr</td>\n      <td>/m/04rlf</td>\n      <td>/m/09x0r\"</td>\n      <td>NaN</td>\n      <td>NaN</td>\n      <td>NaN</td>\n      <td>NaN</td>\n      <td>NaN</td>\n    </tr>\n    <tr>\n      <th>1102</th>\n      <td>zodTMCJFKv8</td>\n      <td>110</td>\n      <td>120</td>\n      <td>\"/m/03qc9zr\"</td>\n      <td>NaN</td>\n      <td>NaN</td>\n      <td>NaN</td>\n      <td>NaN</td>\n      <td>NaN</td>\n      <td>NaN</td>\n      <td>NaN</td>\n    </tr>\n    <tr>\n      <th>1103</th>\n      <td>zpnEnQD3XuU</td>\n      <td>250</td>\n      <td>260</td>\n      <td>\"/m/03qc9zr</td>\n      <td>/m/04rlf</td>\n      <td>/t/dd00125\"</td>\n      <td>NaN</td>\n      <td>NaN</td>\n      <td>NaN</td>\n      <td>NaN</td>\n      <td>NaN</td>\n    </tr>\n  </tbody>\n</table>\n<p>1104 rows × 11 columns</p>\n</div>"
     },
     "execution_count": 4,
     "metadata": {},
     "output_type": "execute_result"
    }
   ],
   "source": [
    "# Drop rows where the value in the '# YTID' column is equal to \"#NAME?\"\n",
    "download_list = download_list[download_list['# YTID'] != '#NAME?']\n",
    "\n",
    "# Reset the index of the DataFrame after dropping rows\n",
    "download_list.reset_index(drop=True, inplace=True)\n",
    "\n",
    "# Display the updated DataFrame\n",
    "download_list"
   ],
   "metadata": {
    "collapsed": false,
    "ExecuteTime": {
     "end_time": "2023-10-08T10:37:35.554340600Z",
     "start_time": "2023-10-08T10:37:35.543575Z"
    }
   }
  },
  {
   "cell_type": "code",
   "execution_count": 5,
   "outputs": [],
   "source": [
    "# Function to trim audio using FFmpeg\n",
    "def trim_audio(input_file, output_file, start_time, end_time):\n",
    "    command = (\n",
    "        f'ffmpeg -loglevel quiet -i \"{input_file}\" -ss {start_time} -to {end_time} \"{output_file}\"'\n",
    "    )\n",
    "    os.system(command)"
   ],
   "metadata": {
    "collapsed": false,
    "ExecuteTime": {
     "end_time": "2023-10-08T10:37:36.335856500Z",
     "start_time": "2023-10-08T10:37:36.328586100Z"
    }
   }
  },
  {
   "cell_type": "code",
   "execution_count": 9,
   "outputs": [
    {
     "name": "stdout",
     "output_type": "stream",
     "text": [
      "[youtube] Extracting URL: https://www.youtube.com/watch?v=---1_cCGK4M\n",
      "[youtube] ---1_cCGK4M: Downloading webpage\n",
      "[youtube] ---1_cCGK4M: Downloading ios player API JSON\n",
      "[youtube] ---1_cCGK4M: Downloading android player API JSON\n",
      "[youtube] ---1_cCGK4M: Downloading m3u8 information\n",
      "[info] ---1_cCGK4M: Downloading 1 format(s): 140\n",
      "[download] Destination: Data\\Screaming\\---1_cCGK4M.m4a\n",
      "[download] 100% of  374.31KiB in 00:00:00 at 8.39MiB/s   \n",
      "[FixupM4a] Correcting container of \"Data\\Screaming\\---1_cCGK4M.m4a\"\n",
      "[ExtractAudio] Destination: Data\\Screaming\\---1_cCGK4M.wav\n",
      "Deleting original file Data\\Screaming\\---1_cCGK4M.m4a (pass -k to keep)\n",
      "Downloaded audio for YTID ---1_cCGK4M\n",
      "Trimmed audio for YTID ---1_cCGK4M\n",
      "[youtube] Extracting URL: https://www.youtube.com/watch?v=-20uudT97E0\n",
      "[youtube] -20uudT97E0: Downloading webpage\n",
      "[youtube] -20uudT97E0: Downloading ios player API JSON\n",
      "[youtube] -20uudT97E0: Downloading android player API JSON\n",
      "[youtube] -20uudT97E0: Downloading m3u8 information\n",
      "[info] -20uudT97E0: Downloading 1 format(s): 251\n",
      "[download] Data\\Screaming\\-20uudT97E0.webm has already been downloaded\n",
      "[download] 100% of    8.73MiB\n",
      "[ExtractAudio] Destination: Data\\Screaming\\-20uudT97E0.wav\n",
      "Deleting original file Data\\Screaming\\-20uudT97E0.webm (pass -k to keep)\n",
      "Downloaded audio for YTID -20uudT97E0\n",
      "Trimmed audio for YTID -20uudT97E0\n",
      "[youtube] Extracting URL: https://www.youtube.com/watch?v=-2yygHLdpXc\n",
      "[youtube] -2yygHLdpXc: Downloading webpage\n",
      "[youtube] -2yygHLdpXc: Downloading ios player API JSON\n",
      "[youtube] -2yygHLdpXc: Downloading android player API JSON\n",
      "[youtube] -2yygHLdpXc: Downloading m3u8 information\n",
      "[info] -2yygHLdpXc: Downloading 1 format(s): 140\n",
      "[download] Destination: Data\\Screaming\\-2yygHLdpXc.m4a\n",
      "[download] 100% of    1.47MiB in 00:00:00 at 14.59MiB/s  \n",
      "[FixupM4a] Correcting container of \"Data\\Screaming\\-2yygHLdpXc.m4a\"\n",
      "[ExtractAudio] Destination: Data\\Screaming\\-2yygHLdpXc.wav\n",
      "Deleting original file Data\\Screaming\\-2yygHLdpXc.m4a (pass -k to keep)\n",
      "Downloaded audio for YTID -2yygHLdpXc\n",
      "Trimmed audio for YTID -2yygHLdpXc\n",
      "[youtube] Extracting URL: https://www.youtube.com/watch?v=-3bGlOhRkAo\n",
      "[youtube] -3bGlOhRkAo: Downloading webpage\n",
      "[youtube] -3bGlOhRkAo: Downloading ios player API JSON\n",
      "[youtube] -3bGlOhRkAo: Downloading android player API JSON\n",
      "[youtube] -3bGlOhRkAo: Downloading m3u8 information\n",
      "[info] -3bGlOhRkAo: Downloading 1 format(s): 251\n",
      "[download] Destination: Data\\Screaming\\-3bGlOhRkAo.webm\n",
      "[download] 100% of   22.10MiB in 00:00:01 at 21.09MiB/s    \n",
      "[ExtractAudio] Destination: Data\\Screaming\\-3bGlOhRkAo.wav\n",
      "Deleting original file Data\\Screaming\\-3bGlOhRkAo.webm (pass -k to keep)\n",
      "Downloaded audio for YTID -3bGlOhRkAo\n",
      "Trimmed audio for YTID -3bGlOhRkAo\n",
      "[youtube] Extracting URL: https://www.youtube.com/watch?v=-4pUrlMafww\n",
      "[youtube] -4pUrlMafww: Downloading webpage\n",
      "[youtube] -4pUrlMafww: Downloading ios player API JSON\n",
      "[youtube] -4pUrlMafww: Downloading android player API JSON\n",
      "[youtube] -4pUrlMafww: Downloading m3u8 information\n",
      "[info] -4pUrlMafww: Downloading 1 format(s): 251\n",
      "[download] Destination: Data\\Screaming\\-4pUrlMafww.webm\n",
      "[download] 100% of  143.33KiB in 00:00:00 at 2.54MiB/s   \n",
      "[ExtractAudio] Destination: Data\\Screaming\\-4pUrlMafww.wav\n",
      "Deleting original file Data\\Screaming\\-4pUrlMafww.webm (pass -k to keep)\n",
      "Downloaded audio for YTID -4pUrlMafww\n",
      "Trimmed audio for YTID -4pUrlMafww\n",
      "[youtube] Extracting URL: https://www.youtube.com/watch?v=-7gojlG6bE4\n",
      "[youtube] -7gojlG6bE4: Downloading webpage\n",
      "[youtube] -7gojlG6bE4: Downloading ios player API JSON\n",
      "[youtube] -7gojlG6bE4: Downloading android player API JSON\n"
     ]
    },
    {
     "name": "stderr",
     "output_type": "stream",
     "text": [
      "ERROR: [youtube] -7gojlG6bE4: Video unavailable\n"
     ]
    },
    {
     "name": "stdout",
     "output_type": "stream",
     "text": [
      "Error downloading audio for YTID -7gojlG6bE4: ERROR: [youtube] -7gojlG6bE4: Video unavailable\n",
      "[youtube] Extracting URL: https://www.youtube.com/watch?v=0-RnTXpp8Q0\n",
      "[youtube] 0-RnTXpp8Q0: Downloading webpage\n",
      "[youtube] 0-RnTXpp8Q0: Downloading ios player API JSON\n",
      "[youtube] 0-RnTXpp8Q0: Downloading android player API JSON\n",
      "[youtube] 0-RnTXpp8Q0: Downloading m3u8 information\n",
      "[info] 0-RnTXpp8Q0: Downloading 1 format(s): 140\n",
      "[download] Destination: Data\\Screaming\\0-RnTXpp8Q0.m4a\n",
      "[download] 100% of    8.26MiB in 00:00:00 at 20.86MiB/s  \n",
      "[FixupM4a] Correcting container of \"Data\\Screaming\\0-RnTXpp8Q0.m4a\"\n",
      "[ExtractAudio] Destination: Data\\Screaming\\0-RnTXpp8Q0.wav\n",
      "Deleting original file Data\\Screaming\\0-RnTXpp8Q0.m4a (pass -k to keep)\n",
      "Downloaded audio for YTID 0-RnTXpp8Q0\n",
      "Trimmed audio for YTID 0-RnTXpp8Q0\n",
      "[youtube] Extracting URL: https://www.youtube.com/watch?v=09YQukdYVI4\n",
      "[youtube] 09YQukdYVI4: Downloading webpage\n",
      "[youtube] 09YQukdYVI4: Downloading ios player API JSON\n",
      "[youtube] 09YQukdYVI4: Downloading android player API JSON\n"
     ]
    },
    {
     "name": "stderr",
     "output_type": "stream",
     "text": [
      "ERROR: [youtube] 09YQukdYVI4: Private video. Sign in if you've been granted access to this video\n"
     ]
    },
    {
     "name": "stdout",
     "output_type": "stream",
     "text": [
      "Error downloading audio for YTID 09YQukdYVI4: ERROR: [youtube] 09YQukdYVI4: Private video. Sign in if you've been granted access to this video\n",
      "[youtube] Extracting URL: https://www.youtube.com/watch?v=0A-jRMtiSGI\n",
      "[youtube] 0A-jRMtiSGI: Downloading webpage\n",
      "[youtube] 0A-jRMtiSGI: Downloading ios player API JSON\n",
      "[youtube] 0A-jRMtiSGI: Downloading android player API JSON\n",
      "[youtube] 0A-jRMtiSGI: Downloading m3u8 information\n",
      "[info] 0A-jRMtiSGI: Downloading 1 format(s): 251\n",
      "[download] Destination: Data\\Screaming\\0A-jRMtiSGI.webm\n",
      "[download] 100% of  603.28KiB in 00:00:00 at 8.54MiB/s   \n",
      "[ExtractAudio] Destination: Data\\Screaming\\0A-jRMtiSGI.wav\n",
      "Deleting original file Data\\Screaming\\0A-jRMtiSGI.webm (pass -k to keep)\n",
      "Downloaded audio for YTID 0A-jRMtiSGI\n",
      "Trimmed audio for YTID 0A-jRMtiSGI\n",
      "[youtube] Extracting URL: https://www.youtube.com/watch?v=0Ees8KFCUXM\n",
      "[youtube] 0Ees8KFCUXM: Downloading webpage\n",
      "[youtube] 0Ees8KFCUXM: Downloading ios player API JSON\n",
      "[youtube] 0Ees8KFCUXM: Downloading android player API JSON\n",
      "[youtube] 0Ees8KFCUXM: Downloading m3u8 information\n",
      "[info] 0Ees8KFCUXM: Downloading 1 format(s): 140\n",
      "[download] Destination: Data\\Screaming\\0Ees8KFCUXM.m4a\n",
      "[download] 100% of    1.80MiB in 00:00:00 at 14.97MiB/s  \n",
      "[FixupM4a] Correcting container of \"Data\\Screaming\\0Ees8KFCUXM.m4a\"\n",
      "[ExtractAudio] Destination: Data\\Screaming\\0Ees8KFCUXM.wav\n",
      "Deleting original file Data\\Screaming\\0Ees8KFCUXM.m4a (pass -k to keep)\n",
      "Downloaded audio for YTID 0Ees8KFCUXM\n",
      "Trimmed audio for YTID 0Ees8KFCUXM\n",
      "[youtube] Extracting URL: https://www.youtube.com/watch?v=0EymGuYWkFk\n",
      "[youtube] 0EymGuYWkFk: Downloading webpage\n",
      "[youtube] 0EymGuYWkFk: Downloading ios player API JSON\n",
      "[youtube] 0EymGuYWkFk: Downloading android player API JSON\n",
      "[youtube] 0EymGuYWkFk: Downloading m3u8 information\n",
      "[info] 0EymGuYWkFk: Downloading 1 format(s): 251\n",
      "[download] Destination: Data\\Screaming\\0EymGuYWkFk.webm\n",
      "[download] 100% of  880.46KiB in 00:00:00 at 10.75MiB/s  \n",
      "[ExtractAudio] Destination: Data\\Screaming\\0EymGuYWkFk.wav\n",
      "Deleting original file Data\\Screaming\\0EymGuYWkFk.webm (pass -k to keep)\n",
      "Downloaded audio for YTID 0EymGuYWkFk\n",
      "Trimmed audio for YTID 0EymGuYWkFk\n",
      "[youtube] Extracting URL: https://www.youtube.com/watch?v=0JOdbnmi_Og\n",
      "[youtube] 0JOdbnmi_Og: Downloading webpage\n",
      "[youtube] 0JOdbnmi_Og: Downloading ios player API JSON\n",
      "[youtube] 0JOdbnmi_Og: Downloading android player API JSON\n",
      "[youtube] 0JOdbnmi_Og: Downloading m3u8 information\n",
      "[info] 0JOdbnmi_Og: Downloading 1 format(s): 140\n",
      "[download] Destination: Data\\Screaming\\0JOdbnmi_Og.m4a\n",
      "[download] 100% of  840.61KiB in 00:00:00 at 11.24MiB/s  \n",
      "[FixupM4a] Correcting container of \"Data\\Screaming\\0JOdbnmi_Og.m4a\"\n",
      "[ExtractAudio] Destination: Data\\Screaming\\0JOdbnmi_Og.wav\n",
      "Deleting original file Data\\Screaming\\0JOdbnmi_Og.m4a (pass -k to keep)\n",
      "Downloaded audio for YTID 0JOdbnmi_Og\n",
      "Trimmed audio for YTID 0JOdbnmi_Og\n",
      "[youtube] Extracting URL: https://www.youtube.com/watch?v=0Nw1OyTsaAo\n",
      "[youtube] 0Nw1OyTsaAo: Downloading webpage\n"
     ]
    },
    {
     "ename": "KeyboardInterrupt",
     "evalue": "",
     "output_type": "error",
     "traceback": [
      "\u001B[1;31m---------------------------------------------------------------------------\u001B[0m",
      "\u001B[1;31mKeyboardInterrupt\u001B[0m                         Traceback (most recent call last)",
      "Cell \u001B[1;32mIn[9], line 32\u001B[0m\n\u001B[0;32m     28\u001B[0m url \u001B[38;5;241m=\u001B[39m \u001B[38;5;124mf\u001B[39m\u001B[38;5;124m'\u001B[39m\u001B[38;5;124mhttps://www.youtube.com/watch?v=\u001B[39m\u001B[38;5;132;01m{\u001B[39;00myt_id\u001B[38;5;132;01m}\u001B[39;00m\u001B[38;5;124m'\u001B[39m\n\u001B[0;32m     30\u001B[0m \u001B[38;5;28;01mtry\u001B[39;00m:\n\u001B[0;32m     31\u001B[0m     \u001B[38;5;66;03m# Download the audio\u001B[39;00m\n\u001B[1;32m---> 32\u001B[0m     \u001B[43mydl\u001B[49m\u001B[38;5;241;43m.\u001B[39;49m\u001B[43mdownload\u001B[49m\u001B[43m(\u001B[49m\u001B[43m[\u001B[49m\u001B[43murl\u001B[49m\u001B[43m]\u001B[49m\u001B[43m)\u001B[49m\n\u001B[0;32m     33\u001B[0m     \u001B[38;5;28mprint\u001B[39m(\u001B[38;5;124mf\u001B[39m\u001B[38;5;124m\"\u001B[39m\u001B[38;5;124mDownloaded audio for YTID \u001B[39m\u001B[38;5;132;01m{\u001B[39;00myt_id\u001B[38;5;132;01m}\u001B[39;00m\u001B[38;5;124m\"\u001B[39m)\n\u001B[0;32m     35\u001B[0m     \u001B[38;5;66;03m# Rename the downloaded file to match the YTID\u001B[39;00m\n",
      "File \u001B[1;32m~\\AppData\\Local\\Programs\\Python\\Python311\\Lib\\site-packages\\yt_dlp\\YoutubeDL.py:3510\u001B[0m, in \u001B[0;36mYoutubeDL.download\u001B[1;34m(self, url_list)\u001B[0m\n\u001B[0;32m   3507\u001B[0m     \u001B[38;5;28;01mraise\u001B[39;00m SameFileError(outtmpl)\n\u001B[0;32m   3509\u001B[0m \u001B[38;5;28;01mfor\u001B[39;00m url \u001B[38;5;129;01min\u001B[39;00m url_list:\n\u001B[1;32m-> 3510\u001B[0m     \u001B[38;5;28;43mself\u001B[39;49m\u001B[38;5;241;43m.\u001B[39;49m\u001B[43m__download_wrapper\u001B[49m\u001B[43m(\u001B[49m\u001B[38;5;28;43mself\u001B[39;49m\u001B[38;5;241;43m.\u001B[39;49m\u001B[43mextract_info\u001B[49m\u001B[43m)\u001B[49m\u001B[43m(\u001B[49m\n\u001B[0;32m   3511\u001B[0m \u001B[43m        \u001B[49m\u001B[43murl\u001B[49m\u001B[43m,\u001B[49m\u001B[43m \u001B[49m\u001B[43mforce_generic_extractor\u001B[49m\u001B[38;5;241;43m=\u001B[39;49m\u001B[38;5;28;43mself\u001B[39;49m\u001B[38;5;241;43m.\u001B[39;49m\u001B[43mparams\u001B[49m\u001B[38;5;241;43m.\u001B[39;49m\u001B[43mget\u001B[49m\u001B[43m(\u001B[49m\u001B[38;5;124;43m'\u001B[39;49m\u001B[38;5;124;43mforce_generic_extractor\u001B[39;49m\u001B[38;5;124;43m'\u001B[39;49m\u001B[43m,\u001B[49m\u001B[43m \u001B[49m\u001B[38;5;28;43;01mFalse\u001B[39;49;00m\u001B[43m)\u001B[49m\u001B[43m)\u001B[49m\n\u001B[0;32m   3513\u001B[0m \u001B[38;5;28;01mreturn\u001B[39;00m \u001B[38;5;28mself\u001B[39m\u001B[38;5;241m.\u001B[39m_download_retcode\n",
      "File \u001B[1;32m~\\AppData\\Local\\Programs\\Python\\Python311\\Lib\\site-packages\\yt_dlp\\YoutubeDL.py:3485\u001B[0m, in \u001B[0;36mYoutubeDL.__download_wrapper.<locals>.wrapper\u001B[1;34m(*args, **kwargs)\u001B[0m\n\u001B[0;32m   3482\u001B[0m \u001B[38;5;129m@functools\u001B[39m\u001B[38;5;241m.\u001B[39mwraps(func)\n\u001B[0;32m   3483\u001B[0m \u001B[38;5;28;01mdef\u001B[39;00m \u001B[38;5;21mwrapper\u001B[39m(\u001B[38;5;241m*\u001B[39margs, \u001B[38;5;241m*\u001B[39m\u001B[38;5;241m*\u001B[39mkwargs):\n\u001B[0;32m   3484\u001B[0m     \u001B[38;5;28;01mtry\u001B[39;00m:\n\u001B[1;32m-> 3485\u001B[0m         res \u001B[38;5;241m=\u001B[39m \u001B[43mfunc\u001B[49m\u001B[43m(\u001B[49m\u001B[38;5;241;43m*\u001B[39;49m\u001B[43margs\u001B[49m\u001B[43m,\u001B[49m\u001B[43m \u001B[49m\u001B[38;5;241;43m*\u001B[39;49m\u001B[38;5;241;43m*\u001B[39;49m\u001B[43mkwargs\u001B[49m\u001B[43m)\u001B[49m\n\u001B[0;32m   3486\u001B[0m     \u001B[38;5;28;01mexcept\u001B[39;00m UnavailableVideoError \u001B[38;5;28;01mas\u001B[39;00m e:\n\u001B[0;32m   3487\u001B[0m         \u001B[38;5;28mself\u001B[39m\u001B[38;5;241m.\u001B[39mreport_error(e)\n",
      "File \u001B[1;32m~\\AppData\\Local\\Programs\\Python\\Python311\\Lib\\site-packages\\yt_dlp\\YoutubeDL.py:1556\u001B[0m, in \u001B[0;36mYoutubeDL.extract_info\u001B[1;34m(self, url, download, ie_key, extra_info, process, force_generic_extractor)\u001B[0m\n\u001B[0;32m   1554\u001B[0m             \u001B[38;5;28;01mraise\u001B[39;00m ExistingVideoReached()\n\u001B[0;32m   1555\u001B[0m         \u001B[38;5;28;01mbreak\u001B[39;00m\n\u001B[1;32m-> 1556\u001B[0m     \u001B[38;5;28;01mreturn\u001B[39;00m \u001B[38;5;28;43mself\u001B[39;49m\u001B[38;5;241;43m.\u001B[39;49m\u001B[43m__extract_info\u001B[49m\u001B[43m(\u001B[49m\u001B[43murl\u001B[49m\u001B[43m,\u001B[49m\u001B[43m \u001B[49m\u001B[38;5;28;43mself\u001B[39;49m\u001B[38;5;241;43m.\u001B[39;49m\u001B[43mget_info_extractor\u001B[49m\u001B[43m(\u001B[49m\u001B[43mkey\u001B[49m\u001B[43m)\u001B[49m\u001B[43m,\u001B[49m\u001B[43m \u001B[49m\u001B[43mdownload\u001B[49m\u001B[43m,\u001B[49m\u001B[43m \u001B[49m\u001B[43mextra_info\u001B[49m\u001B[43m,\u001B[49m\u001B[43m \u001B[49m\u001B[43mprocess\u001B[49m\u001B[43m)\u001B[49m\n\u001B[0;32m   1557\u001B[0m \u001B[38;5;28;01melse\u001B[39;00m:\n\u001B[0;32m   1558\u001B[0m     extractors_restricted \u001B[38;5;241m=\u001B[39m \u001B[38;5;28mself\u001B[39m\u001B[38;5;241m.\u001B[39mparams\u001B[38;5;241m.\u001B[39mget(\u001B[38;5;124m'\u001B[39m\u001B[38;5;124mallowed_extractors\u001B[39m\u001B[38;5;124m'\u001B[39m) \u001B[38;5;129;01mnot\u001B[39;00m \u001B[38;5;129;01min\u001B[39;00m (\u001B[38;5;28;01mNone\u001B[39;00m, [\u001B[38;5;124m'\u001B[39m\u001B[38;5;124mdefault\u001B[39m\u001B[38;5;124m'\u001B[39m])\n",
      "File \u001B[1;32m~\\AppData\\Local\\Programs\\Python\\Python311\\Lib\\site-packages\\yt_dlp\\YoutubeDL.py:1567\u001B[0m, in \u001B[0;36mYoutubeDL._handle_extraction_exceptions.<locals>.wrapper\u001B[1;34m(self, *args, **kwargs)\u001B[0m\n\u001B[0;32m   1565\u001B[0m \u001B[38;5;28;01mwhile\u001B[39;00m \u001B[38;5;28;01mTrue\u001B[39;00m:\n\u001B[0;32m   1566\u001B[0m     \u001B[38;5;28;01mtry\u001B[39;00m:\n\u001B[1;32m-> 1567\u001B[0m         \u001B[38;5;28;01mreturn\u001B[39;00m \u001B[43mfunc\u001B[49m\u001B[43m(\u001B[49m\u001B[38;5;28;43mself\u001B[39;49m\u001B[43m,\u001B[49m\u001B[43m \u001B[49m\u001B[38;5;241;43m*\u001B[39;49m\u001B[43margs\u001B[49m\u001B[43m,\u001B[49m\u001B[43m \u001B[49m\u001B[38;5;241;43m*\u001B[39;49m\u001B[38;5;241;43m*\u001B[39;49m\u001B[43mkwargs\u001B[49m\u001B[43m)\u001B[49m\n\u001B[0;32m   1568\u001B[0m     \u001B[38;5;28;01mexcept\u001B[39;00m (DownloadCancelled, LazyList\u001B[38;5;241m.\u001B[39mIndexError, PagedList\u001B[38;5;241m.\u001B[39mIndexError):\n\u001B[0;32m   1569\u001B[0m         \u001B[38;5;28;01mraise\u001B[39;00m\n",
      "File \u001B[1;32m~\\AppData\\Local\\Programs\\Python\\Python311\\Lib\\site-packages\\yt_dlp\\YoutubeDL.py:1702\u001B[0m, in \u001B[0;36mYoutubeDL.__extract_info\u001B[1;34m(self, url, ie, download, extra_info, process)\u001B[0m\n\u001B[0;32m   1699\u001B[0m \u001B[38;5;28mself\u001B[39m\u001B[38;5;241m.\u001B[39m_apply_header_cookies(url)\n\u001B[0;32m   1701\u001B[0m \u001B[38;5;28;01mtry\u001B[39;00m:\n\u001B[1;32m-> 1702\u001B[0m     ie_result \u001B[38;5;241m=\u001B[39m \u001B[43mie\u001B[49m\u001B[38;5;241;43m.\u001B[39;49m\u001B[43mextract\u001B[49m\u001B[43m(\u001B[49m\u001B[43murl\u001B[49m\u001B[43m)\u001B[49m\n\u001B[0;32m   1703\u001B[0m \u001B[38;5;28;01mexcept\u001B[39;00m UserNotLive \u001B[38;5;28;01mas\u001B[39;00m e:\n\u001B[0;32m   1704\u001B[0m     \u001B[38;5;28;01mif\u001B[39;00m process:\n",
      "File \u001B[1;32m~\\AppData\\Local\\Programs\\Python\\Python311\\Lib\\site-packages\\yt_dlp\\extractor\\common.py:715\u001B[0m, in \u001B[0;36mInfoExtractor.extract\u001B[1;34m(self, url)\u001B[0m\n\u001B[0;32m    712\u001B[0m \u001B[38;5;28mself\u001B[39m\u001B[38;5;241m.\u001B[39minitialize()\n\u001B[0;32m    713\u001B[0m \u001B[38;5;28mself\u001B[39m\u001B[38;5;241m.\u001B[39mto_screen(\u001B[38;5;124m'\u001B[39m\u001B[38;5;124mExtracting URL: \u001B[39m\u001B[38;5;132;01m%s\u001B[39;00m\u001B[38;5;124m'\u001B[39m \u001B[38;5;241m%\u001B[39m (\n\u001B[0;32m    714\u001B[0m     url \u001B[38;5;28;01mif\u001B[39;00m \u001B[38;5;28mself\u001B[39m\u001B[38;5;241m.\u001B[39mget_param(\u001B[38;5;124m'\u001B[39m\u001B[38;5;124mverbose\u001B[39m\u001B[38;5;124m'\u001B[39m) \u001B[38;5;28;01melse\u001B[39;00m truncate_string(url, \u001B[38;5;241m100\u001B[39m, \u001B[38;5;241m20\u001B[39m)))\n\u001B[1;32m--> 715\u001B[0m ie_result \u001B[38;5;241m=\u001B[39m \u001B[38;5;28;43mself\u001B[39;49m\u001B[38;5;241;43m.\u001B[39;49m\u001B[43m_real_extract\u001B[49m\u001B[43m(\u001B[49m\u001B[43murl\u001B[49m\u001B[43m)\u001B[49m\n\u001B[0;32m    716\u001B[0m \u001B[38;5;28;01mif\u001B[39;00m ie_result \u001B[38;5;129;01mis\u001B[39;00m \u001B[38;5;28;01mNone\u001B[39;00m:\n\u001B[0;32m    717\u001B[0m     \u001B[38;5;28;01mreturn\u001B[39;00m \u001B[38;5;28;01mNone\u001B[39;00m\n",
      "File \u001B[1;32m~\\AppData\\Local\\Programs\\Python\\Python311\\Lib\\site-packages\\yt_dlp\\extractor\\youtube.py:4070\u001B[0m, in \u001B[0;36mYoutubeIE._real_extract\u001B[1;34m(self, url)\u001B[0m\n\u001B[0;32m   4067\u001B[0m base_url \u001B[38;5;241m=\u001B[39m \u001B[38;5;28mself\u001B[39m\u001B[38;5;241m.\u001B[39mhttp_scheme() \u001B[38;5;241m+\u001B[39m \u001B[38;5;124m'\u001B[39m\u001B[38;5;124m//www.youtube.com/\u001B[39m\u001B[38;5;124m'\u001B[39m\n\u001B[0;32m   4068\u001B[0m webpage_url \u001B[38;5;241m=\u001B[39m base_url \u001B[38;5;241m+\u001B[39m \u001B[38;5;124m'\u001B[39m\u001B[38;5;124mwatch?v=\u001B[39m\u001B[38;5;124m'\u001B[39m \u001B[38;5;241m+\u001B[39m video_id\n\u001B[1;32m-> 4070\u001B[0m webpage, master_ytcfg, player_responses, player_url \u001B[38;5;241m=\u001B[39m \u001B[38;5;28;43mself\u001B[39;49m\u001B[38;5;241;43m.\u001B[39;49m\u001B[43m_download_player_responses\u001B[49m\u001B[43m(\u001B[49m\u001B[43murl\u001B[49m\u001B[43m,\u001B[49m\u001B[43m \u001B[49m\u001B[43msmuggled_data\u001B[49m\u001B[43m,\u001B[49m\u001B[43m \u001B[49m\u001B[43mvideo_id\u001B[49m\u001B[43m,\u001B[49m\u001B[43m \u001B[49m\u001B[43mwebpage_url\u001B[49m\u001B[43m)\u001B[49m\n\u001B[0;32m   4072\u001B[0m playability_statuses \u001B[38;5;241m=\u001B[39m traverse_obj(\n\u001B[0;32m   4073\u001B[0m     player_responses, (\u001B[38;5;241m.\u001B[39m\u001B[38;5;241m.\u001B[39m\u001B[38;5;241m.\u001B[39m, \u001B[38;5;124m'\u001B[39m\u001B[38;5;124mplayabilityStatus\u001B[39m\u001B[38;5;124m'\u001B[39m), expected_type\u001B[38;5;241m=\u001B[39m\u001B[38;5;28mdict\u001B[39m)\n\u001B[0;32m   4075\u001B[0m trailer_video_id \u001B[38;5;241m=\u001B[39m get_first(\n\u001B[0;32m   4076\u001B[0m     playability_statuses,\n\u001B[0;32m   4077\u001B[0m     (\u001B[38;5;124m'\u001B[39m\u001B[38;5;124merrorScreen\u001B[39m\u001B[38;5;124m'\u001B[39m, \u001B[38;5;124m'\u001B[39m\u001B[38;5;124mplayerLegacyDesktopYpcTrailerRenderer\u001B[39m\u001B[38;5;124m'\u001B[39m, \u001B[38;5;124m'\u001B[39m\u001B[38;5;124mtrailerVideoId\u001B[39m\u001B[38;5;124m'\u001B[39m),\n\u001B[0;32m   4078\u001B[0m     expected_type\u001B[38;5;241m=\u001B[39m\u001B[38;5;28mstr\u001B[39m)\n",
      "File \u001B[1;32m~\\AppData\\Local\\Programs\\Python\\Python311\\Lib\\site-packages\\yt_dlp\\extractor\\youtube.py:4029\u001B[0m, in \u001B[0;36mYoutubeIE._download_player_responses\u001B[1;34m(self, url, smuggled_data, video_id, webpage_url)\u001B[0m\n\u001B[0;32m   4027\u001B[0m     \u001B[38;5;28;01mif\u001B[39;00m pp:\n\u001B[0;32m   4028\u001B[0m         query[\u001B[38;5;124m'\u001B[39m\u001B[38;5;124mpp\u001B[39m\u001B[38;5;124m'\u001B[39m] \u001B[38;5;241m=\u001B[39m pp\n\u001B[1;32m-> 4029\u001B[0m     webpage \u001B[38;5;241m=\u001B[39m \u001B[38;5;28;43mself\u001B[39;49m\u001B[38;5;241;43m.\u001B[39;49m\u001B[43m_download_webpage\u001B[49m\u001B[43m(\u001B[49m\n\u001B[0;32m   4030\u001B[0m \u001B[43m        \u001B[49m\u001B[43mwebpage_url\u001B[49m\u001B[43m,\u001B[49m\u001B[43m \u001B[49m\u001B[43mvideo_id\u001B[49m\u001B[43m,\u001B[49m\u001B[43m \u001B[49m\u001B[43mfatal\u001B[49m\u001B[38;5;241;43m=\u001B[39;49m\u001B[38;5;28;43;01mFalse\u001B[39;49;00m\u001B[43m,\u001B[49m\u001B[43m \u001B[49m\u001B[43mquery\u001B[49m\u001B[38;5;241;43m=\u001B[39;49m\u001B[43mquery\u001B[49m\u001B[43m)\u001B[49m\n\u001B[0;32m   4032\u001B[0m master_ytcfg \u001B[38;5;241m=\u001B[39m \u001B[38;5;28mself\u001B[39m\u001B[38;5;241m.\u001B[39mextract_ytcfg(video_id, webpage) \u001B[38;5;129;01mor\u001B[39;00m \u001B[38;5;28mself\u001B[39m\u001B[38;5;241m.\u001B[39m_get_default_ytcfg()\n\u001B[0;32m   4034\u001B[0m player_responses, player_url \u001B[38;5;241m=\u001B[39m \u001B[38;5;28mself\u001B[39m\u001B[38;5;241m.\u001B[39m_extract_player_responses(\n\u001B[0;32m   4035\u001B[0m     \u001B[38;5;28mself\u001B[39m\u001B[38;5;241m.\u001B[39m_get_requested_clients(url, smuggled_data),\n\u001B[0;32m   4036\u001B[0m     video_id, webpage, master_ytcfg, smuggled_data)\n",
      "File \u001B[1;32m~\\AppData\\Local\\Programs\\Python\\Python311\\Lib\\site-packages\\yt_dlp\\extractor\\common.py:1118\u001B[0m, in \u001B[0;36mInfoExtractor._download_webpage\u001B[1;34m(self, url_or_request, video_id, note, errnote, fatal, tries, timeout, *args, **kwargs)\u001B[0m\n\u001B[0;32m   1116\u001B[0m \u001B[38;5;28;01mwhile\u001B[39;00m \u001B[38;5;28;01mTrue\u001B[39;00m:\n\u001B[0;32m   1117\u001B[0m     \u001B[38;5;28;01mtry\u001B[39;00m:\n\u001B[1;32m-> 1118\u001B[0m         \u001B[38;5;28;01mreturn\u001B[39;00m \u001B[38;5;28;43mself\u001B[39;49m\u001B[38;5;241;43m.\u001B[39;49m\u001B[43m__download_webpage\u001B[49m\u001B[43m(\u001B[49m\u001B[43murl_or_request\u001B[49m\u001B[43m,\u001B[49m\u001B[43m \u001B[49m\u001B[43mvideo_id\u001B[49m\u001B[43m,\u001B[49m\u001B[43m \u001B[49m\u001B[43mnote\u001B[49m\u001B[43m,\u001B[49m\u001B[43m \u001B[49m\u001B[43merrnote\u001B[49m\u001B[43m,\u001B[49m\u001B[43m \u001B[49m\u001B[38;5;28;43;01mNone\u001B[39;49;00m\u001B[43m,\u001B[49m\u001B[43m \u001B[49m\u001B[43mfatal\u001B[49m\u001B[43m,\u001B[49m\u001B[43m \u001B[49m\u001B[38;5;241;43m*\u001B[39;49m\u001B[43margs\u001B[49m\u001B[43m,\u001B[49m\u001B[43m \u001B[49m\u001B[38;5;241;43m*\u001B[39;49m\u001B[38;5;241;43m*\u001B[39;49m\u001B[43mkwargs\u001B[49m\u001B[43m)\u001B[49m\n\u001B[0;32m   1119\u001B[0m     \u001B[38;5;28;01mexcept\u001B[39;00m IncompleteRead \u001B[38;5;28;01mas\u001B[39;00m e:\n\u001B[0;32m   1120\u001B[0m         try_count \u001B[38;5;241m+\u001B[39m\u001B[38;5;241m=\u001B[39m \u001B[38;5;241m1\u001B[39m\n",
      "File \u001B[1;32m~\\AppData\\Local\\Programs\\Python\\Python311\\Lib\\site-packages\\yt_dlp\\extractor\\common.py:1069\u001B[0m, in \u001B[0;36mInfoExtractor.__create_download_methods.<locals>.download_content\u001B[1;34m(self, url_or_request, video_id, note, errnote, transform_source, fatal, encoding, data, headers, query, expected_status)\u001B[0m\n\u001B[0;32m   1067\u001B[0m     kwargs\u001B[38;5;241m.\u001B[39mpop(\u001B[38;5;124m'\u001B[39m\u001B[38;5;124mtransform_source\u001B[39m\u001B[38;5;124m'\u001B[39m)\n\u001B[0;32m   1068\u001B[0m \u001B[38;5;66;03m# The method is fetched by name so subclasses can override _download_..._handle\u001B[39;00m\n\u001B[1;32m-> 1069\u001B[0m res \u001B[38;5;241m=\u001B[39m \u001B[38;5;28;43mgetattr\u001B[39;49m\u001B[43m(\u001B[49m\u001B[38;5;28;43mself\u001B[39;49m\u001B[43m,\u001B[49m\u001B[43m \u001B[49m\u001B[43mdownload_handle\u001B[49m\u001B[38;5;241;43m.\u001B[39;49m\u001B[38;5;18;43m__name__\u001B[39;49m\u001B[43m)\u001B[49m\u001B[43m(\u001B[49m\u001B[43murl_or_request\u001B[49m\u001B[43m,\u001B[49m\u001B[43m \u001B[49m\u001B[43mvideo_id\u001B[49m\u001B[43m,\u001B[49m\u001B[43m \u001B[49m\u001B[38;5;241;43m*\u001B[39;49m\u001B[38;5;241;43m*\u001B[39;49m\u001B[43mkwargs\u001B[49m\u001B[43m)\u001B[49m\n\u001B[0;32m   1070\u001B[0m \u001B[38;5;28;01mreturn\u001B[39;00m res \u001B[38;5;28;01mif\u001B[39;00m res \u001B[38;5;129;01mis\u001B[39;00m \u001B[38;5;28;01mFalse\u001B[39;00m \u001B[38;5;28;01melse\u001B[39;00m res[\u001B[38;5;241m0\u001B[39m]\n",
      "File \u001B[1;32m~\\AppData\\Local\\Programs\\Python\\Python311\\Lib\\site-packages\\yt_dlp\\extractor\\common.py:903\u001B[0m, in \u001B[0;36mInfoExtractor._download_webpage_handle\u001B[1;34m(self, url_or_request, video_id, note, errnote, fatal, encoding, data, headers, query, expected_status)\u001B[0m\n\u001B[0;32m    900\u001B[0m \u001B[38;5;28;01mif\u001B[39;00m \u001B[38;5;28misinstance\u001B[39m(url_or_request, \u001B[38;5;28mstr\u001B[39m):\n\u001B[0;32m    901\u001B[0m     url_or_request \u001B[38;5;241m=\u001B[39m url_or_request\u001B[38;5;241m.\u001B[39mpartition(\u001B[38;5;124m'\u001B[39m\u001B[38;5;124m#\u001B[39m\u001B[38;5;124m'\u001B[39m)[\u001B[38;5;241m0\u001B[39m]\n\u001B[1;32m--> 903\u001B[0m urlh \u001B[38;5;241m=\u001B[39m \u001B[38;5;28;43mself\u001B[39;49m\u001B[38;5;241;43m.\u001B[39;49m\u001B[43m_request_webpage\u001B[49m\u001B[43m(\u001B[49m\u001B[43murl_or_request\u001B[49m\u001B[43m,\u001B[49m\u001B[43m \u001B[49m\u001B[43mvideo_id\u001B[49m\u001B[43m,\u001B[49m\u001B[43m \u001B[49m\u001B[43mnote\u001B[49m\u001B[43m,\u001B[49m\u001B[43m \u001B[49m\u001B[43merrnote\u001B[49m\u001B[43m,\u001B[49m\u001B[43m \u001B[49m\u001B[43mfatal\u001B[49m\u001B[43m,\u001B[49m\u001B[43m \u001B[49m\u001B[43mdata\u001B[49m\u001B[38;5;241;43m=\u001B[39;49m\u001B[43mdata\u001B[49m\u001B[43m,\u001B[49m\u001B[43m \u001B[49m\u001B[43mheaders\u001B[49m\u001B[38;5;241;43m=\u001B[39;49m\u001B[43mheaders\u001B[49m\u001B[43m,\u001B[49m\u001B[43m \u001B[49m\u001B[43mquery\u001B[49m\u001B[38;5;241;43m=\u001B[39;49m\u001B[43mquery\u001B[49m\u001B[43m,\u001B[49m\u001B[43m \u001B[49m\u001B[43mexpected_status\u001B[49m\u001B[38;5;241;43m=\u001B[39;49m\u001B[43mexpected_status\u001B[49m\u001B[43m)\u001B[49m\n\u001B[0;32m    904\u001B[0m \u001B[38;5;28;01mif\u001B[39;00m urlh \u001B[38;5;129;01mis\u001B[39;00m \u001B[38;5;28;01mFalse\u001B[39;00m:\n\u001B[0;32m    905\u001B[0m     \u001B[38;5;28;01massert\u001B[39;00m \u001B[38;5;129;01mnot\u001B[39;00m fatal\n",
      "File \u001B[1;32m~\\AppData\\Local\\Programs\\Python\\Python311\\Lib\\site-packages\\yt_dlp\\extractor\\common.py:847\u001B[0m, in \u001B[0;36mInfoExtractor._request_webpage\u001B[1;34m(self, url_or_request, video_id, note, errnote, fatal, data, headers, query, expected_status)\u001B[0m\n\u001B[0;32m    844\u001B[0m     headers\u001B[38;5;241m.\u001B[39msetdefault(\u001B[38;5;124m'\u001B[39m\u001B[38;5;124mX-Forwarded-For\u001B[39m\u001B[38;5;124m'\u001B[39m, \u001B[38;5;28mself\u001B[39m\u001B[38;5;241m.\u001B[39m_x_forwarded_for_ip)\n\u001B[0;32m    846\u001B[0m \u001B[38;5;28;01mtry\u001B[39;00m:\n\u001B[1;32m--> 847\u001B[0m     \u001B[38;5;28;01mreturn\u001B[39;00m \u001B[38;5;28;43mself\u001B[39;49m\u001B[38;5;241;43m.\u001B[39;49m\u001B[43m_downloader\u001B[49m\u001B[38;5;241;43m.\u001B[39;49m\u001B[43murlopen\u001B[49m\u001B[43m(\u001B[49m\u001B[38;5;28;43mself\u001B[39;49m\u001B[38;5;241;43m.\u001B[39;49m\u001B[43m_create_request\u001B[49m\u001B[43m(\u001B[49m\u001B[43murl_or_request\u001B[49m\u001B[43m,\u001B[49m\u001B[43m \u001B[49m\u001B[43mdata\u001B[49m\u001B[43m,\u001B[49m\u001B[43m \u001B[49m\u001B[43mheaders\u001B[49m\u001B[43m,\u001B[49m\u001B[43m \u001B[49m\u001B[43mquery\u001B[49m\u001B[43m)\u001B[49m\u001B[43m)\u001B[49m\n\u001B[0;32m    848\u001B[0m \u001B[38;5;28;01mexcept\u001B[39;00m network_exceptions \u001B[38;5;28;01mas\u001B[39;00m err:\n\u001B[0;32m    849\u001B[0m     \u001B[38;5;28;01mif\u001B[39;00m \u001B[38;5;28misinstance\u001B[39m(err, HTTPError):\n",
      "File \u001B[1;32m~\\AppData\\Local\\Programs\\Python\\Python311\\Lib\\site-packages\\yt_dlp\\YoutubeDL.py:4051\u001B[0m, in \u001B[0;36mYoutubeDL.urlopen\u001B[1;34m(self, req)\u001B[0m\n\u001B[0;32m   4048\u001B[0m clean_headers(req\u001B[38;5;241m.\u001B[39mheaders)\n\u001B[0;32m   4050\u001B[0m \u001B[38;5;28;01mtry\u001B[39;00m:\n\u001B[1;32m-> 4051\u001B[0m     \u001B[38;5;28;01mreturn\u001B[39;00m \u001B[38;5;28;43mself\u001B[39;49m\u001B[38;5;241;43m.\u001B[39;49m\u001B[43m_request_director\u001B[49m\u001B[38;5;241;43m.\u001B[39;49m\u001B[43msend\u001B[49m\u001B[43m(\u001B[49m\u001B[43mreq\u001B[49m\u001B[43m)\u001B[49m\n\u001B[0;32m   4052\u001B[0m \u001B[38;5;28;01mexcept\u001B[39;00m NoSupportingHandlers \u001B[38;5;28;01mas\u001B[39;00m e:\n\u001B[0;32m   4053\u001B[0m     \u001B[38;5;28;01mfor\u001B[39;00m ue \u001B[38;5;129;01min\u001B[39;00m e\u001B[38;5;241m.\u001B[39munsupported_errors:\n",
      "File \u001B[1;32m~\\AppData\\Local\\Programs\\Python\\Python311\\Lib\\site-packages\\yt_dlp\\networking\\common.py:114\u001B[0m, in \u001B[0;36mRequestDirector.send\u001B[1;34m(self, request)\u001B[0m\n\u001B[0;32m    112\u001B[0m \u001B[38;5;28mself\u001B[39m\u001B[38;5;241m.\u001B[39m_print_verbose(\u001B[38;5;124mf\u001B[39m\u001B[38;5;124m'\u001B[39m\u001B[38;5;124mSending request via \u001B[39m\u001B[38;5;124m\"\u001B[39m\u001B[38;5;132;01m{\u001B[39;00mhandler\u001B[38;5;241m.\u001B[39mRH_NAME\u001B[38;5;132;01m}\u001B[39;00m\u001B[38;5;124m\"\u001B[39m\u001B[38;5;124m'\u001B[39m)\n\u001B[0;32m    113\u001B[0m \u001B[38;5;28;01mtry\u001B[39;00m:\n\u001B[1;32m--> 114\u001B[0m     response \u001B[38;5;241m=\u001B[39m \u001B[43mhandler\u001B[49m\u001B[38;5;241;43m.\u001B[39;49m\u001B[43msend\u001B[49m\u001B[43m(\u001B[49m\u001B[43mrequest\u001B[49m\u001B[43m)\u001B[49m\n\u001B[0;32m    115\u001B[0m \u001B[38;5;28;01mexcept\u001B[39;00m RequestError:\n\u001B[0;32m    116\u001B[0m     \u001B[38;5;28;01mraise\u001B[39;00m\n",
      "File \u001B[1;32m~\\AppData\\Local\\Programs\\Python\\Python311\\Lib\\site-packages\\yt_dlp\\networking\\_helper.py:204\u001B[0m, in \u001B[0;36mwrap_request_errors.<locals>.wrapper\u001B[1;34m(self, *args, **kwargs)\u001B[0m\n\u001B[0;32m    201\u001B[0m \u001B[38;5;129m@functools\u001B[39m\u001B[38;5;241m.\u001B[39mwraps(func)\n\u001B[0;32m    202\u001B[0m \u001B[38;5;28;01mdef\u001B[39;00m \u001B[38;5;21mwrapper\u001B[39m(\u001B[38;5;28mself\u001B[39m, \u001B[38;5;241m*\u001B[39margs, \u001B[38;5;241m*\u001B[39m\u001B[38;5;241m*\u001B[39mkwargs):\n\u001B[0;32m    203\u001B[0m     \u001B[38;5;28;01mtry\u001B[39;00m:\n\u001B[1;32m--> 204\u001B[0m         \u001B[38;5;28;01mreturn\u001B[39;00m \u001B[43mfunc\u001B[49m\u001B[43m(\u001B[49m\u001B[38;5;28;43mself\u001B[39;49m\u001B[43m,\u001B[49m\u001B[43m \u001B[49m\u001B[38;5;241;43m*\u001B[39;49m\u001B[43margs\u001B[49m\u001B[43m,\u001B[49m\u001B[43m \u001B[49m\u001B[38;5;241;43m*\u001B[39;49m\u001B[38;5;241;43m*\u001B[39;49m\u001B[43mkwargs\u001B[49m\u001B[43m)\u001B[49m\n\u001B[0;32m    205\u001B[0m     \u001B[38;5;28;01mexcept\u001B[39;00m UnsupportedRequest \u001B[38;5;28;01mas\u001B[39;00m e:\n\u001B[0;32m    206\u001B[0m         \u001B[38;5;28;01mif\u001B[39;00m e\u001B[38;5;241m.\u001B[39mhandler \u001B[38;5;129;01mis\u001B[39;00m \u001B[38;5;28;01mNone\u001B[39;00m:\n",
      "File \u001B[1;32m~\\AppData\\Local\\Programs\\Python\\Python311\\Lib\\site-packages\\yt_dlp\\networking\\common.py:325\u001B[0m, in \u001B[0;36mRequestHandler.send\u001B[1;34m(self, request)\u001B[0m\n\u001B[0;32m    323\u001B[0m \u001B[38;5;28;01mif\u001B[39;00m \u001B[38;5;129;01mnot\u001B[39;00m \u001B[38;5;28misinstance\u001B[39m(request, Request):\n\u001B[0;32m    324\u001B[0m     \u001B[38;5;28;01mraise\u001B[39;00m \u001B[38;5;167;01mTypeError\u001B[39;00m(\u001B[38;5;124m'\u001B[39m\u001B[38;5;124mExpected an instance of Request\u001B[39m\u001B[38;5;124m'\u001B[39m)\n\u001B[1;32m--> 325\u001B[0m \u001B[38;5;28;01mreturn\u001B[39;00m \u001B[38;5;28;43mself\u001B[39;49m\u001B[38;5;241;43m.\u001B[39;49m\u001B[43m_send\u001B[49m\u001B[43m(\u001B[49m\u001B[43mrequest\u001B[49m\u001B[43m)\u001B[49m\n",
      "File \u001B[1;32m~\\AppData\\Local\\Programs\\Python\\Python311\\Lib\\site-packages\\yt_dlp\\networking\\_urllib.py:410\u001B[0m, in \u001B[0;36mUrllibRH._send\u001B[1;34m(self, request)\u001B[0m\n\u001B[0;32m    405\u001B[0m opener \u001B[38;5;241m=\u001B[39m \u001B[38;5;28mself\u001B[39m\u001B[38;5;241m.\u001B[39m_get_instance(\n\u001B[0;32m    406\u001B[0m     proxies\u001B[38;5;241m=\u001B[39mrequest\u001B[38;5;241m.\u001B[39mproxies \u001B[38;5;129;01mor\u001B[39;00m \u001B[38;5;28mself\u001B[39m\u001B[38;5;241m.\u001B[39mproxies,\n\u001B[0;32m    407\u001B[0m     cookiejar\u001B[38;5;241m=\u001B[39mrequest\u001B[38;5;241m.\u001B[39mextensions\u001B[38;5;241m.\u001B[39mget(\u001B[38;5;124m'\u001B[39m\u001B[38;5;124mcookiejar\u001B[39m\u001B[38;5;124m'\u001B[39m) \u001B[38;5;129;01mor\u001B[39;00m \u001B[38;5;28mself\u001B[39m\u001B[38;5;241m.\u001B[39mcookiejar\n\u001B[0;32m    408\u001B[0m )\n\u001B[0;32m    409\u001B[0m \u001B[38;5;28;01mtry\u001B[39;00m:\n\u001B[1;32m--> 410\u001B[0m     res \u001B[38;5;241m=\u001B[39m \u001B[43mopener\u001B[49m\u001B[38;5;241;43m.\u001B[39;49m\u001B[43mopen\u001B[49m\u001B[43m(\u001B[49m\u001B[43murllib_req\u001B[49m\u001B[43m,\u001B[49m\u001B[43m \u001B[49m\u001B[43mtimeout\u001B[49m\u001B[38;5;241;43m=\u001B[39;49m\u001B[38;5;28;43mfloat\u001B[39;49m\u001B[43m(\u001B[49m\u001B[43mrequest\u001B[49m\u001B[38;5;241;43m.\u001B[39;49m\u001B[43mextensions\u001B[49m\u001B[38;5;241;43m.\u001B[39;49m\u001B[43mget\u001B[49m\u001B[43m(\u001B[49m\u001B[38;5;124;43m'\u001B[39;49m\u001B[38;5;124;43mtimeout\u001B[39;49m\u001B[38;5;124;43m'\u001B[39;49m\u001B[43m)\u001B[49m\u001B[43m \u001B[49m\u001B[38;5;129;43;01mor\u001B[39;49;00m\u001B[43m \u001B[49m\u001B[38;5;28;43mself\u001B[39;49m\u001B[38;5;241;43m.\u001B[39;49m\u001B[43mtimeout\u001B[49m\u001B[43m)\u001B[49m\u001B[43m)\u001B[49m\n\u001B[0;32m    411\u001B[0m \u001B[38;5;28;01mexcept\u001B[39;00m urllib\u001B[38;5;241m.\u001B[39merror\u001B[38;5;241m.\u001B[39mHTTPError \u001B[38;5;28;01mas\u001B[39;00m e:\n\u001B[0;32m    412\u001B[0m     \u001B[38;5;28;01mif\u001B[39;00m \u001B[38;5;28misinstance\u001B[39m(e\u001B[38;5;241m.\u001B[39mfp, (http\u001B[38;5;241m.\u001B[39mclient\u001B[38;5;241m.\u001B[39mHTTPResponse, urllib\u001B[38;5;241m.\u001B[39mresponse\u001B[38;5;241m.\u001B[39maddinfourl)):\n\u001B[0;32m    413\u001B[0m         \u001B[38;5;66;03m# Prevent file object from being closed when urllib.error.HTTPError is destroyed.\u001B[39;00m\n",
      "File \u001B[1;32m~\\AppData\\Local\\Programs\\Python\\Python311\\Lib\\urllib\\request.py:525\u001B[0m, in \u001B[0;36mOpenerDirector.open\u001B[1;34m(self, fullurl, data, timeout)\u001B[0m\n\u001B[0;32m    523\u001B[0m \u001B[38;5;28;01mfor\u001B[39;00m processor \u001B[38;5;129;01min\u001B[39;00m \u001B[38;5;28mself\u001B[39m\u001B[38;5;241m.\u001B[39mprocess_response\u001B[38;5;241m.\u001B[39mget(protocol, []):\n\u001B[0;32m    524\u001B[0m     meth \u001B[38;5;241m=\u001B[39m \u001B[38;5;28mgetattr\u001B[39m(processor, meth_name)\n\u001B[1;32m--> 525\u001B[0m     response \u001B[38;5;241m=\u001B[39m \u001B[43mmeth\u001B[49m\u001B[43m(\u001B[49m\u001B[43mreq\u001B[49m\u001B[43m,\u001B[49m\u001B[43m \u001B[49m\u001B[43mresponse\u001B[49m\u001B[43m)\u001B[49m\n\u001B[0;32m    527\u001B[0m \u001B[38;5;28;01mreturn\u001B[39;00m response\n",
      "File \u001B[1;32m~\\AppData\\Local\\Programs\\Python\\Python311\\Lib\\site-packages\\yt_dlp\\networking\\_urllib.py:161\u001B[0m, in \u001B[0;36mHTTPHandler.http_response\u001B[1;34m(self, req, resp)\u001B[0m\n\u001B[0;32m    159\u001B[0m         decoded_response \u001B[38;5;241m=\u001B[39m \u001B[38;5;28mself\u001B[39m\u001B[38;5;241m.\u001B[39mdeflate(decoded_response \u001B[38;5;129;01mor\u001B[39;00m resp\u001B[38;5;241m.\u001B[39mread())\n\u001B[0;32m    160\u001B[0m     \u001B[38;5;28;01melif\u001B[39;00m encoding \u001B[38;5;241m==\u001B[39m \u001B[38;5;124m'\u001B[39m\u001B[38;5;124mbr\u001B[39m\u001B[38;5;124m'\u001B[39m \u001B[38;5;129;01mand\u001B[39;00m brotli:\n\u001B[1;32m--> 161\u001B[0m         decoded_response \u001B[38;5;241m=\u001B[39m \u001B[38;5;28mself\u001B[39m\u001B[38;5;241m.\u001B[39mbrotli(decoded_response \u001B[38;5;129;01mor\u001B[39;00m \u001B[43mresp\u001B[49m\u001B[38;5;241;43m.\u001B[39;49m\u001B[43mread\u001B[49m\u001B[43m(\u001B[49m\u001B[43m)\u001B[49m)\n\u001B[0;32m    163\u001B[0m \u001B[38;5;28;01mif\u001B[39;00m decoded_response \u001B[38;5;129;01mis\u001B[39;00m \u001B[38;5;129;01mnot\u001B[39;00m \u001B[38;5;28;01mNone\u001B[39;00m:\n\u001B[0;32m    164\u001B[0m     resp \u001B[38;5;241m=\u001B[39m urllib\u001B[38;5;241m.\u001B[39mrequest\u001B[38;5;241m.\u001B[39maddinfourl(io\u001B[38;5;241m.\u001B[39mBytesIO(decoded_response), old_resp\u001B[38;5;241m.\u001B[39mheaders, old_resp\u001B[38;5;241m.\u001B[39murl, old_resp\u001B[38;5;241m.\u001B[39mcode)\n",
      "File \u001B[1;32m~\\AppData\\Local\\Programs\\Python\\Python311\\Lib\\http\\client.py:459\u001B[0m, in \u001B[0;36mHTTPResponse.read\u001B[1;34m(self, amt)\u001B[0m\n\u001B[0;32m    456\u001B[0m     \u001B[38;5;28;01mreturn\u001B[39;00m \u001B[38;5;124mb\u001B[39m\u001B[38;5;124m\"\u001B[39m\u001B[38;5;124m\"\u001B[39m\n\u001B[0;32m    458\u001B[0m \u001B[38;5;28;01mif\u001B[39;00m \u001B[38;5;28mself\u001B[39m\u001B[38;5;241m.\u001B[39mchunked:\n\u001B[1;32m--> 459\u001B[0m     \u001B[38;5;28;01mreturn\u001B[39;00m \u001B[38;5;28;43mself\u001B[39;49m\u001B[38;5;241;43m.\u001B[39;49m\u001B[43m_read_chunked\u001B[49m\u001B[43m(\u001B[49m\u001B[43mamt\u001B[49m\u001B[43m)\u001B[49m\n\u001B[0;32m    461\u001B[0m \u001B[38;5;28;01mif\u001B[39;00m amt \u001B[38;5;129;01mis\u001B[39;00m \u001B[38;5;129;01mnot\u001B[39;00m \u001B[38;5;28;01mNone\u001B[39;00m:\n\u001B[0;32m    462\u001B[0m     \u001B[38;5;28;01mif\u001B[39;00m \u001B[38;5;28mself\u001B[39m\u001B[38;5;241m.\u001B[39mlength \u001B[38;5;129;01mis\u001B[39;00m \u001B[38;5;129;01mnot\u001B[39;00m \u001B[38;5;28;01mNone\u001B[39;00m \u001B[38;5;129;01mand\u001B[39;00m amt \u001B[38;5;241m>\u001B[39m \u001B[38;5;28mself\u001B[39m\u001B[38;5;241m.\u001B[39mlength:\n\u001B[0;32m    463\u001B[0m         \u001B[38;5;66;03m# clip the read to the \"end of response\"\u001B[39;00m\n",
      "File \u001B[1;32m~\\AppData\\Local\\Programs\\Python\\Python311\\Lib\\http\\client.py:582\u001B[0m, in \u001B[0;36mHTTPResponse._read_chunked\u001B[1;34m(self, amt)\u001B[0m\n\u001B[0;32m    580\u001B[0m \u001B[38;5;28;01mtry\u001B[39;00m:\n\u001B[0;32m    581\u001B[0m     \u001B[38;5;28;01mwhile\u001B[39;00m \u001B[38;5;28;01mTrue\u001B[39;00m:\n\u001B[1;32m--> 582\u001B[0m         chunk_left \u001B[38;5;241m=\u001B[39m \u001B[38;5;28;43mself\u001B[39;49m\u001B[38;5;241;43m.\u001B[39;49m\u001B[43m_get_chunk_left\u001B[49m\u001B[43m(\u001B[49m\u001B[43m)\u001B[49m\n\u001B[0;32m    583\u001B[0m         \u001B[38;5;28;01mif\u001B[39;00m chunk_left \u001B[38;5;129;01mis\u001B[39;00m \u001B[38;5;28;01mNone\u001B[39;00m:\n\u001B[0;32m    584\u001B[0m             \u001B[38;5;28;01mbreak\u001B[39;00m\n",
      "File \u001B[1;32m~\\AppData\\Local\\Programs\\Python\\Python311\\Lib\\http\\client.py:565\u001B[0m, in \u001B[0;36mHTTPResponse._get_chunk_left\u001B[1;34m(self)\u001B[0m\n\u001B[0;32m    563\u001B[0m     \u001B[38;5;28mself\u001B[39m\u001B[38;5;241m.\u001B[39m_safe_read(\u001B[38;5;241m2\u001B[39m)  \u001B[38;5;66;03m# toss the CRLF at the end of the chunk\u001B[39;00m\n\u001B[0;32m    564\u001B[0m \u001B[38;5;28;01mtry\u001B[39;00m:\n\u001B[1;32m--> 565\u001B[0m     chunk_left \u001B[38;5;241m=\u001B[39m \u001B[38;5;28;43mself\u001B[39;49m\u001B[38;5;241;43m.\u001B[39;49m\u001B[43m_read_next_chunk_size\u001B[49m\u001B[43m(\u001B[49m\u001B[43m)\u001B[49m\n\u001B[0;32m    566\u001B[0m \u001B[38;5;28;01mexcept\u001B[39;00m \u001B[38;5;167;01mValueError\u001B[39;00m:\n\u001B[0;32m    567\u001B[0m     \u001B[38;5;28;01mraise\u001B[39;00m IncompleteRead(\u001B[38;5;124mb\u001B[39m\u001B[38;5;124m'\u001B[39m\u001B[38;5;124m'\u001B[39m)\n",
      "File \u001B[1;32m~\\AppData\\Local\\Programs\\Python\\Python311\\Lib\\http\\client.py:525\u001B[0m, in \u001B[0;36mHTTPResponse._read_next_chunk_size\u001B[1;34m(self)\u001B[0m\n\u001B[0;32m    523\u001B[0m \u001B[38;5;28;01mdef\u001B[39;00m \u001B[38;5;21m_read_next_chunk_size\u001B[39m(\u001B[38;5;28mself\u001B[39m):\n\u001B[0;32m    524\u001B[0m     \u001B[38;5;66;03m# Read the next chunk size from the file\u001B[39;00m\n\u001B[1;32m--> 525\u001B[0m     line \u001B[38;5;241m=\u001B[39m \u001B[38;5;28mself\u001B[39m\u001B[38;5;241m.\u001B[39mfp\u001B[38;5;241m.\u001B[39mreadline(_MAXLINE \u001B[38;5;241m+\u001B[39m \u001B[38;5;241m1\u001B[39m)\n\u001B[0;32m    526\u001B[0m     \u001B[38;5;28;01mif\u001B[39;00m \u001B[38;5;28mlen\u001B[39m(line) \u001B[38;5;241m>\u001B[39m _MAXLINE:\n\u001B[0;32m    527\u001B[0m         \u001B[38;5;28;01mraise\u001B[39;00m LineTooLong(\u001B[38;5;124m\"\u001B[39m\u001B[38;5;124mchunk size\u001B[39m\u001B[38;5;124m\"\u001B[39m)\n",
      "File \u001B[1;32m~\\AppData\\Local\\Programs\\Python\\Python311\\Lib\\socket.py:706\u001B[0m, in \u001B[0;36mSocketIO.readinto\u001B[1;34m(self, b)\u001B[0m\n\u001B[0;32m    704\u001B[0m \u001B[38;5;28;01mwhile\u001B[39;00m \u001B[38;5;28;01mTrue\u001B[39;00m:\n\u001B[0;32m    705\u001B[0m     \u001B[38;5;28;01mtry\u001B[39;00m:\n\u001B[1;32m--> 706\u001B[0m         \u001B[38;5;28;01mreturn\u001B[39;00m \u001B[38;5;28;43mself\u001B[39;49m\u001B[38;5;241;43m.\u001B[39;49m\u001B[43m_sock\u001B[49m\u001B[38;5;241;43m.\u001B[39;49m\u001B[43mrecv_into\u001B[49m\u001B[43m(\u001B[49m\u001B[43mb\u001B[49m\u001B[43m)\u001B[49m\n\u001B[0;32m    707\u001B[0m     \u001B[38;5;28;01mexcept\u001B[39;00m timeout:\n\u001B[0;32m    708\u001B[0m         \u001B[38;5;28mself\u001B[39m\u001B[38;5;241m.\u001B[39m_timeout_occurred \u001B[38;5;241m=\u001B[39m \u001B[38;5;28;01mTrue\u001B[39;00m\n",
      "File \u001B[1;32m~\\AppData\\Local\\Programs\\Python\\Python311\\Lib\\ssl.py:1278\u001B[0m, in \u001B[0;36mSSLSocket.recv_into\u001B[1;34m(self, buffer, nbytes, flags)\u001B[0m\n\u001B[0;32m   1274\u001B[0m     \u001B[38;5;28;01mif\u001B[39;00m flags \u001B[38;5;241m!=\u001B[39m \u001B[38;5;241m0\u001B[39m:\n\u001B[0;32m   1275\u001B[0m         \u001B[38;5;28;01mraise\u001B[39;00m \u001B[38;5;167;01mValueError\u001B[39;00m(\n\u001B[0;32m   1276\u001B[0m           \u001B[38;5;124m\"\u001B[39m\u001B[38;5;124mnon-zero flags not allowed in calls to recv_into() on \u001B[39m\u001B[38;5;132;01m%s\u001B[39;00m\u001B[38;5;124m\"\u001B[39m \u001B[38;5;241m%\u001B[39m\n\u001B[0;32m   1277\u001B[0m           \u001B[38;5;28mself\u001B[39m\u001B[38;5;241m.\u001B[39m\u001B[38;5;18m__class__\u001B[39m)\n\u001B[1;32m-> 1278\u001B[0m     \u001B[38;5;28;01mreturn\u001B[39;00m \u001B[38;5;28;43mself\u001B[39;49m\u001B[38;5;241;43m.\u001B[39;49m\u001B[43mread\u001B[49m\u001B[43m(\u001B[49m\u001B[43mnbytes\u001B[49m\u001B[43m,\u001B[49m\u001B[43m \u001B[49m\u001B[43mbuffer\u001B[49m\u001B[43m)\u001B[49m\n\u001B[0;32m   1279\u001B[0m \u001B[38;5;28;01melse\u001B[39;00m:\n\u001B[0;32m   1280\u001B[0m     \u001B[38;5;28;01mreturn\u001B[39;00m \u001B[38;5;28msuper\u001B[39m()\u001B[38;5;241m.\u001B[39mrecv_into(buffer, nbytes, flags)\n",
      "File \u001B[1;32m~\\AppData\\Local\\Programs\\Python\\Python311\\Lib\\ssl.py:1134\u001B[0m, in \u001B[0;36mSSLSocket.read\u001B[1;34m(self, len, buffer)\u001B[0m\n\u001B[0;32m   1132\u001B[0m \u001B[38;5;28;01mtry\u001B[39;00m:\n\u001B[0;32m   1133\u001B[0m     \u001B[38;5;28;01mif\u001B[39;00m buffer \u001B[38;5;129;01mis\u001B[39;00m \u001B[38;5;129;01mnot\u001B[39;00m \u001B[38;5;28;01mNone\u001B[39;00m:\n\u001B[1;32m-> 1134\u001B[0m         \u001B[38;5;28;01mreturn\u001B[39;00m \u001B[38;5;28;43mself\u001B[39;49m\u001B[38;5;241;43m.\u001B[39;49m\u001B[43m_sslobj\u001B[49m\u001B[38;5;241;43m.\u001B[39;49m\u001B[43mread\u001B[49m\u001B[43m(\u001B[49m\u001B[38;5;28;43mlen\u001B[39;49m\u001B[43m,\u001B[49m\u001B[43m \u001B[49m\u001B[43mbuffer\u001B[49m\u001B[43m)\u001B[49m\n\u001B[0;32m   1135\u001B[0m     \u001B[38;5;28;01melse\u001B[39;00m:\n\u001B[0;32m   1136\u001B[0m         \u001B[38;5;28;01mreturn\u001B[39;00m \u001B[38;5;28mself\u001B[39m\u001B[38;5;241m.\u001B[39m_sslobj\u001B[38;5;241m.\u001B[39mread(\u001B[38;5;28mlen\u001B[39m)\n",
      "\u001B[1;31mKeyboardInterrupt\u001B[0m: "
     ]
    }
   ],
   "source": [
    "import os\n",
    "import yt_dlp\n",
    "\n",
    "# Create a directory to store downloaded audio files if it doesn't exist\n",
    "output_dir = 'Data/Screaming'\n",
    "os.makedirs(output_dir, exist_ok=True)\n",
    "\n",
    "# Create a yt-dlp instance\n",
    "ydl_opts = {\n",
    "    'format': 'bestaudio/best',\n",
    "    'postprocessors': [{\n",
    "        'key': 'FFmpegExtractAudio',\n",
    "        'preferredcodec': 'wav',\n",
    "        'preferredquality': '1920',\n",
    "    }],\n",
    "    'outtmpl': os.path.join(output_dir, '%(id)s.%(ext)s'),\n",
    "}\n",
    "\n",
    "ydl = yt_dlp.YoutubeDL(ydl_opts)\n",
    "\n",
    "# Loop through each row in the DataFrame and download the audio\n",
    "for index, row in download_list.iterrows():\n",
    "    yt_id = row['# YTID']\n",
    "    start_seconds = row['start_seconds']\n",
    "    end_seconds = row['end_seconds']\n",
    "\n",
    "    # Construct the URL with time offsets\n",
    "    url = f'https://www.youtube.com/watch?v={yt_id}'\n",
    "\n",
    "    try:\n",
    "        # Download the audio\n",
    "        ydl.download([url])\n",
    "        print(f\"Downloaded audio for YTID {yt_id}\")\n",
    "\n",
    "        # Rename the downloaded file to match the YTID\n",
    "        downloaded_file = os.path.join(output_dir, f\"{yt_id}.wav\")\n",
    "        trimmed_file = os.path.join(output_dir, f\"{yt_id}_out.wav\")\n",
    "\n",
    "        # Trim the audio using FFmpeg\n",
    "        trim_audio(downloaded_file, trimmed_file, start_seconds, end_seconds)\n",
    "\n",
    "        # Remove the original downloaded file\n",
    "        os.remove(downloaded_file)\n",
    "\n",
    "        print(f\"Trimmed audio for YTID {yt_id}\")\n",
    "    except Exception as e:\n",
    "        print(f\"Error downloading audio for YTID {yt_id}: {str(e)}\")\n",
    "\n",
    "print(\"Download and trimming completed.\")"
   ],
   "metadata": {
    "collapsed": false,
    "ExecuteTime": {
     "end_time": "2023-10-08T10:45:32.551936200Z",
     "start_time": "2023-10-08T10:45:11.025235600Z"
    }
   }
  },
  {
   "cell_type": "code",
   "execution_count": null,
   "outputs": [],
   "source": [],
   "metadata": {
    "collapsed": false
   }
  },
  {
   "cell_type": "code",
   "execution_count": 9,
   "outputs": [],
   "source": [],
   "metadata": {
    "collapsed": false,
    "ExecuteTime": {
     "end_time": "2023-10-08T10:32:53.270498500Z",
     "start_time": "2023-10-08T10:32:53.263494300Z"
    }
   }
  },
  {
   "cell_type": "code",
   "execution_count": null,
   "outputs": [],
   "source": [],
   "metadata": {
    "collapsed": false
   }
  }
 ],
 "metadata": {
  "kernelspec": {
   "display_name": "Python 3",
   "language": "python",
   "name": "python3"
  },
  "language_info": {
   "codemirror_mode": {
    "name": "ipython",
    "version": 2
   },
   "file_extension": ".py",
   "mimetype": "text/x-python",
   "name": "python",
   "nbconvert_exporter": "python",
   "pygments_lexer": "ipython2",
   "version": "2.7.6"
  }
 },
 "nbformat": 4,
 "nbformat_minor": 0
}
