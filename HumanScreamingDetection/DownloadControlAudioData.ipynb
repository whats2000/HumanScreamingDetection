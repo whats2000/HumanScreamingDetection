{
 "cells": [
  {
   "cell_type": "code",
   "execution_count": 70,
   "metadata": {
    "collapsed": true,
    "ExecuteTime": {
     "end_time": "2023-10-08T13:35:47.029906100Z",
     "start_time": "2023-10-08T13:35:47.023906200Z"
    }
   },
   "outputs": [],
   "source": [
    "import pandas as pd"
   ]
  },
  {
   "cell_type": "code",
   "execution_count": 71,
   "outputs": [
    {
     "name": "stderr",
     "output_type": "stream",
     "text": [
      "C:\\Users\\eddie\\AppData\\Local\\Temp\\ipykernel_8616\\52116974.py:2: ParserWarning: Falling back to the 'python' engine because the 'c' engine does not support regex separators (separators > 1 char and different from '\\s+' are interpreted as regex); you can avoid this warning by specifying engine='python'.\n",
      "  download_list = pd.read_csv('Data/AllDataLink.csv', skiprows=2, sep=', ')\n"
     ]
    },
    {
     "data": {
      "text/plain": "            # YTID  start_seconds  end_seconds   \n0      --PJHxphWEs           30.0         40.0  \\\n1      --ZhevVpy1s           50.0         60.0   \n2      --aE2O5G5WE            0.0         10.0   \n3      --aO5cdqSAg           30.0         40.0   \n4      --aaILOrkII          200.0        210.0   \n...            ...            ...          ...   \n22155  zyqg4pYEioQ           20.0         30.0   \n22156  zz0ddNfz0h0           30.0         40.0   \n22157  zz8TGV83nkE           80.0         90.0   \n22158  zzlK8KDqlr0          370.0        380.0   \n22159  zzya4dDVRLk           30.0         40.0   \n\n                                 positive_labels  \n0                          \"/m/09x0r,/t/dd00088\"  \n1                                    \"/m/012xff\"  \n2                   \"/m/03fwl,/m/04rlf,/m/09x0r\"  \n3                        \"/t/dd00003,/t/dd00005\"  \n4                          \"/m/032s66,/m/073cg4\"  \n...                                          ...  \n22155                        \"/m/09x0r,/m/0llzx\"  \n22156     \"/m/012f08,/m/03cl9h,/m/07yv9,/m/0k4j\"  \n22157     \"/m/012f08,/m/02mk9,/m/04_sv,/m/07yv9\"  \n22158  \"/m/01m2v,/m/07qc9xj,/m/09x0r,/t/dd00125\"  \n22159                       \"/m/01v_m0,/m/0hdsk\"  \n\n[22160 rows x 4 columns]",
      "text/html": "<div>\n<style scoped>\n    .dataframe tbody tr th:only-of-type {\n        vertical-align: middle;\n    }\n\n    .dataframe tbody tr th {\n        vertical-align: top;\n    }\n\n    .dataframe thead th {\n        text-align: right;\n    }\n</style>\n<table border=\"1\" class=\"dataframe\">\n  <thead>\n    <tr style=\"text-align: right;\">\n      <th></th>\n      <th># YTID</th>\n      <th>start_seconds</th>\n      <th>end_seconds</th>\n      <th>positive_labels</th>\n    </tr>\n  </thead>\n  <tbody>\n    <tr>\n      <th>0</th>\n      <td>--PJHxphWEs</td>\n      <td>30.0</td>\n      <td>40.0</td>\n      <td>\"/m/09x0r,/t/dd00088\"</td>\n    </tr>\n    <tr>\n      <th>1</th>\n      <td>--ZhevVpy1s</td>\n      <td>50.0</td>\n      <td>60.0</td>\n      <td>\"/m/012xff\"</td>\n    </tr>\n    <tr>\n      <th>2</th>\n      <td>--aE2O5G5WE</td>\n      <td>0.0</td>\n      <td>10.0</td>\n      <td>\"/m/03fwl,/m/04rlf,/m/09x0r\"</td>\n    </tr>\n    <tr>\n      <th>3</th>\n      <td>--aO5cdqSAg</td>\n      <td>30.0</td>\n      <td>40.0</td>\n      <td>\"/t/dd00003,/t/dd00005\"</td>\n    </tr>\n    <tr>\n      <th>4</th>\n      <td>--aaILOrkII</td>\n      <td>200.0</td>\n      <td>210.0</td>\n      <td>\"/m/032s66,/m/073cg4\"</td>\n    </tr>\n    <tr>\n      <th>...</th>\n      <td>...</td>\n      <td>...</td>\n      <td>...</td>\n      <td>...</td>\n    </tr>\n    <tr>\n      <th>22155</th>\n      <td>zyqg4pYEioQ</td>\n      <td>20.0</td>\n      <td>30.0</td>\n      <td>\"/m/09x0r,/m/0llzx\"</td>\n    </tr>\n    <tr>\n      <th>22156</th>\n      <td>zz0ddNfz0h0</td>\n      <td>30.0</td>\n      <td>40.0</td>\n      <td>\"/m/012f08,/m/03cl9h,/m/07yv9,/m/0k4j\"</td>\n    </tr>\n    <tr>\n      <th>22157</th>\n      <td>zz8TGV83nkE</td>\n      <td>80.0</td>\n      <td>90.0</td>\n      <td>\"/m/012f08,/m/02mk9,/m/04_sv,/m/07yv9\"</td>\n    </tr>\n    <tr>\n      <th>22158</th>\n      <td>zzlK8KDqlr0</td>\n      <td>370.0</td>\n      <td>380.0</td>\n      <td>\"/m/01m2v,/m/07qc9xj,/m/09x0r,/t/dd00125\"</td>\n    </tr>\n    <tr>\n      <th>22159</th>\n      <td>zzya4dDVRLk</td>\n      <td>30.0</td>\n      <td>40.0</td>\n      <td>\"/m/01v_m0,/m/0hdsk\"</td>\n    </tr>\n  </tbody>\n</table>\n<p>22160 rows × 4 columns</p>\n</div>"
     },
     "execution_count": 71,
     "metadata": {},
     "output_type": "execute_result"
    }
   ],
   "source": [
    "# Load the CSV file, skipping problematic lines and using the third row as column names\n",
    "download_list = pd.read_csv('Data/AllDataLink.csv', skiprows=2, sep=', ')\n",
    "\n",
    "# Display the loaded data\n",
    "download_list"
   ],
   "metadata": {
    "collapsed": false,
    "ExecuteTime": {
     "end_time": "2023-10-08T13:35:47.093644500Z",
     "start_time": "2023-10-08T13:35:47.025908100Z"
    }
   }
  },
  {
   "cell_type": "code",
   "execution_count": 72,
   "outputs": [
    {
     "name": "stdout",
     "output_type": "stream",
     "text": [
      "<class 'pandas.core.frame.DataFrame'>\n",
      "RangeIndex: 22160 entries, 0 to 22159\n",
      "Data columns (total 4 columns):\n",
      " #   Column           Non-Null Count  Dtype  \n",
      "---  ------           --------------  -----  \n",
      " 0   # YTID           22160 non-null  object \n",
      " 1   start_seconds    22160 non-null  float64\n",
      " 2   end_seconds      22160 non-null  float64\n",
      " 3   positive_labels  22160 non-null  object \n",
      "dtypes: float64(2), object(2)\n",
      "memory usage: 692.6+ KB\n"
     ]
    }
   ],
   "source": [
    "download_list.info()"
   ],
   "metadata": {
    "collapsed": false,
    "ExecuteTime": {
     "end_time": "2023-10-08T13:35:47.101897Z",
     "start_time": "2023-10-08T13:35:47.095644600Z"
    }
   }
  },
  {
   "cell_type": "code",
   "execution_count": 73,
   "outputs": [
    {
     "data": {
      "text/plain": "            # YTID  start_seconds  end_seconds   \n0      --PJHxphWEs           30.0         40.0  \\\n1      --ZhevVpy1s           50.0         60.0   \n2      --aE2O5G5WE            0.0         10.0   \n3      --aO5cdqSAg           30.0         40.0   \n4      --aaILOrkII          200.0        210.0   \n...            ...            ...          ...   \n22155  zyqg4pYEioQ           20.0         30.0   \n22156  zz0ddNfz0h0           30.0         40.0   \n22157  zz8TGV83nkE           80.0         90.0   \n22158  zzlK8KDqlr0          370.0        380.0   \n22159  zzya4dDVRLk           30.0         40.0   \n\n                                 positive_labels  \n0                          \"/m/09x0r,/t/dd00088\"  \n1                                    \"/m/012xff\"  \n2                   \"/m/03fwl,/m/04rlf,/m/09x0r\"  \n3                        \"/t/dd00003,/t/dd00005\"  \n4                          \"/m/032s66,/m/073cg4\"  \n...                                          ...  \n22155                        \"/m/09x0r,/m/0llzx\"  \n22156     \"/m/012f08,/m/03cl9h,/m/07yv9,/m/0k4j\"  \n22157     \"/m/012f08,/m/02mk9,/m/04_sv,/m/07yv9\"  \n22158  \"/m/01m2v,/m/07qc9xj,/m/09x0r,/t/dd00125\"  \n22159                       \"/m/01v_m0,/m/0hdsk\"  \n\n[22160 rows x 4 columns]",
      "text/html": "<div>\n<style scoped>\n    .dataframe tbody tr th:only-of-type {\n        vertical-align: middle;\n    }\n\n    .dataframe tbody tr th {\n        vertical-align: top;\n    }\n\n    .dataframe thead th {\n        text-align: right;\n    }\n</style>\n<table border=\"1\" class=\"dataframe\">\n  <thead>\n    <tr style=\"text-align: right;\">\n      <th></th>\n      <th># YTID</th>\n      <th>start_seconds</th>\n      <th>end_seconds</th>\n      <th>positive_labels</th>\n    </tr>\n  </thead>\n  <tbody>\n    <tr>\n      <th>0</th>\n      <td>--PJHxphWEs</td>\n      <td>30.0</td>\n      <td>40.0</td>\n      <td>\"/m/09x0r,/t/dd00088\"</td>\n    </tr>\n    <tr>\n      <th>1</th>\n      <td>--ZhevVpy1s</td>\n      <td>50.0</td>\n      <td>60.0</td>\n      <td>\"/m/012xff\"</td>\n    </tr>\n    <tr>\n      <th>2</th>\n      <td>--aE2O5G5WE</td>\n      <td>0.0</td>\n      <td>10.0</td>\n      <td>\"/m/03fwl,/m/04rlf,/m/09x0r\"</td>\n    </tr>\n    <tr>\n      <th>3</th>\n      <td>--aO5cdqSAg</td>\n      <td>30.0</td>\n      <td>40.0</td>\n      <td>\"/t/dd00003,/t/dd00005\"</td>\n    </tr>\n    <tr>\n      <th>4</th>\n      <td>--aaILOrkII</td>\n      <td>200.0</td>\n      <td>210.0</td>\n      <td>\"/m/032s66,/m/073cg4\"</td>\n    </tr>\n    <tr>\n      <th>...</th>\n      <td>...</td>\n      <td>...</td>\n      <td>...</td>\n      <td>...</td>\n    </tr>\n    <tr>\n      <th>22155</th>\n      <td>zyqg4pYEioQ</td>\n      <td>20.0</td>\n      <td>30.0</td>\n      <td>\"/m/09x0r,/m/0llzx\"</td>\n    </tr>\n    <tr>\n      <th>22156</th>\n      <td>zz0ddNfz0h0</td>\n      <td>30.0</td>\n      <td>40.0</td>\n      <td>\"/m/012f08,/m/03cl9h,/m/07yv9,/m/0k4j\"</td>\n    </tr>\n    <tr>\n      <th>22157</th>\n      <td>zz8TGV83nkE</td>\n      <td>80.0</td>\n      <td>90.0</td>\n      <td>\"/m/012f08,/m/02mk9,/m/04_sv,/m/07yv9\"</td>\n    </tr>\n    <tr>\n      <th>22158</th>\n      <td>zzlK8KDqlr0</td>\n      <td>370.0</td>\n      <td>380.0</td>\n      <td>\"/m/01m2v,/m/07qc9xj,/m/09x0r,/t/dd00125\"</td>\n    </tr>\n    <tr>\n      <th>22159</th>\n      <td>zzya4dDVRLk</td>\n      <td>30.0</td>\n      <td>40.0</td>\n      <td>\"/m/01v_m0,/m/0hdsk\"</td>\n    </tr>\n  </tbody>\n</table>\n<p>22160 rows × 4 columns</p>\n</div>"
     },
     "execution_count": 73,
     "metadata": {},
     "output_type": "execute_result"
    }
   ],
   "source": [
    "# Drop rows where the value in the '# YTID' column is equal to \"#NAME?\"\n",
    "download_list = download_list[download_list['# YTID'] != '#NAME?']\n",
    "\n",
    "# Reset the index of the DataFrame after dropping rows\n",
    "download_list.reset_index(drop=True, inplace=True)\n",
    "\n",
    "# Display the updated DataFrame\n",
    "download_list"
   ],
   "metadata": {
    "collapsed": false,
    "ExecuteTime": {
     "end_time": "2023-10-08T13:35:47.117692100Z",
     "start_time": "2023-10-08T13:35:47.102897100Z"
    }
   }
  },
  {
   "cell_type": "code",
   "execution_count": 77,
   "outputs": [
    {
     "data": {
      "text/plain": "    Context  index         mid       display_name\n0         5      8  /m/07p6fty              Shout\n1         5      9  /m/07q4ntr             Bellow\n2         5     10  /m/07rwj3x              Whoop\n3         5     11  /m/07sr1lc               Yell\n4         5     13  /t/dd00135  Children shouting\n..      ...    ...         ...                ...\n59        6    426   /m/014zdl          Explosion\n60        6    434  /m/07qsvvw         Burst, pop\n61        6    435  /m/07pxg6y           Eruption\n62        6    436  /m/07qqyl4               Boom\n63        1    443  /m/07rn7sz            Shatter\n\n[64 rows x 4 columns]",
      "text/html": "<div>\n<style scoped>\n    .dataframe tbody tr th:only-of-type {\n        vertical-align: middle;\n    }\n\n    .dataframe tbody tr th {\n        vertical-align: top;\n    }\n\n    .dataframe thead th {\n        text-align: right;\n    }\n</style>\n<table border=\"1\" class=\"dataframe\">\n  <thead>\n    <tr style=\"text-align: right;\">\n      <th></th>\n      <th>Context</th>\n      <th>index</th>\n      <th>mid</th>\n      <th>display_name</th>\n    </tr>\n  </thead>\n  <tbody>\n    <tr>\n      <th>0</th>\n      <td>5</td>\n      <td>8</td>\n      <td>/m/07p6fty</td>\n      <td>Shout</td>\n    </tr>\n    <tr>\n      <th>1</th>\n      <td>5</td>\n      <td>9</td>\n      <td>/m/07q4ntr</td>\n      <td>Bellow</td>\n    </tr>\n    <tr>\n      <th>2</th>\n      <td>5</td>\n      <td>10</td>\n      <td>/m/07rwj3x</td>\n      <td>Whoop</td>\n    </tr>\n    <tr>\n      <th>3</th>\n      <td>5</td>\n      <td>11</td>\n      <td>/m/07sr1lc</td>\n      <td>Yell</td>\n    </tr>\n    <tr>\n      <th>4</th>\n      <td>5</td>\n      <td>13</td>\n      <td>/t/dd00135</td>\n      <td>Children shouting</td>\n    </tr>\n    <tr>\n      <th>...</th>\n      <td>...</td>\n      <td>...</td>\n      <td>...</td>\n      <td>...</td>\n    </tr>\n    <tr>\n      <th>59</th>\n      <td>6</td>\n      <td>426</td>\n      <td>/m/014zdl</td>\n      <td>Explosion</td>\n    </tr>\n    <tr>\n      <th>60</th>\n      <td>6</td>\n      <td>434</td>\n      <td>/m/07qsvvw</td>\n      <td>Burst, pop</td>\n    </tr>\n    <tr>\n      <th>61</th>\n      <td>6</td>\n      <td>435</td>\n      <td>/m/07pxg6y</td>\n      <td>Eruption</td>\n    </tr>\n    <tr>\n      <th>62</th>\n      <td>6</td>\n      <td>436</td>\n      <td>/m/07qqyl4</td>\n      <td>Boom</td>\n    </tr>\n    <tr>\n      <th>63</th>\n      <td>1</td>\n      <td>443</td>\n      <td>/m/07rn7sz</td>\n      <td>Shatter</td>\n    </tr>\n  </tbody>\n</table>\n<p>64 rows × 4 columns</p>\n</div>"
     },
     "execution_count": 77,
     "metadata": {},
     "output_type": "execute_result"
    }
   ],
   "source": [
    "# Load Danger Label Data Set\n",
    "drop_labels = pd.read_csv('Data/DangerLabels.csv')\n",
    "drop_labels"
   ],
   "metadata": {
    "collapsed": false,
    "ExecuteTime": {
     "end_time": "2023-10-08T13:36:45.509222500Z",
     "start_time": "2023-10-08T13:36:45.490906600Z"
    }
   }
  },
  {
   "cell_type": "code",
   "execution_count": 75,
   "outputs": [
    {
     "data": {
      "text/plain": "['/m/07p6fty',\n '/m/07q4ntr',\n '/m/07rwj3x',\n '/m/07sr1lc',\n '/t/dd00135',\n '/m/03qc9zr',\n '/m/0463cq4',\n '/t/dd00002',\n '/m/0bt9lr',\n '/m/05tny_',\n '/m/07r_k2n',\n '/m/07qf0zm',\n '/m/07rc7d9',\n '/m/0ghcn6',\n '/t/dd00136',\n '/m/07qwf61',\n '/m/01280g',\n '/m/0cdnk',\n '/m/07yv9',\n '/m/012f08',\n '/m/0k4j',\n '/m/0912c9',\n '/m/02mfyn',\n '/m/07rknqz',\n '/m/0h9mv',\n '/t/dd00134',\n '/m/0ltv',\n '/m/07r04',\n '/m/0gvgw0',\n '/m/05x_td',\n '/m/02rhddq',\n '/m/03j1ly',\n '/m/04qvtq',\n '/m/012n7d',\n '/m/012ndj',\n '/m/04_sv',\n '/m/06d_3',\n '/m/07jdr',\n '/m/04zmvq',\n '/m/0284vy3',\n '/m/01g50p',\n '/t/dd00048',\n '/m/0195fx',\n '/m/0199g',\n '/m/01yg9g',\n '/m/01j4z9',\n '/m/07pp_mv',\n '/m/03kmc9',\n '/m/0dgbq',\n '/m/030rvx',\n '/m/01y3hg',\n '/m/0c3f7m',\n '/m/04fq5q',\n '/m/0l156k',\n '/m/03l9g',\n '/m/03p19w',\n '/m/01b82r',\n '/m/0_ksk',\n '/m/01d380',\n '/m/014zdl',\n '/m/07qsvvw',\n '/m/07pxg6y',\n '/m/07qqyl4',\n '/m/07rn7sz']"
     },
     "execution_count": 75,
     "metadata": {},
     "output_type": "execute_result"
    }
   ],
   "source": [
    "drop_labels['mid'].to_list()"
   ],
   "metadata": {
    "collapsed": false,
    "ExecuteTime": {
     "end_time": "2023-10-08T13:35:47.194475300Z",
     "start_time": "2023-10-08T13:35:47.126923300Z"
    }
   }
  },
  {
   "cell_type": "code",
   "execution_count": 78,
   "outputs": [
    {
     "data": {
      "text/plain": "            # YTID  start_seconds  end_seconds   \n0      --PJHxphWEs           30.0         40.0  \\\n1      --ZhevVpy1s           50.0         60.0   \n2      --aE2O5G5WE            0.0         10.0   \n3      --aO5cdqSAg           30.0         40.0   \n4      --aaILOrkII          200.0        210.0   \n...            ...            ...          ...   \n18803  zyGjrJfE_rg          120.0        130.0   \n18804  zyXa2tdBTGc           30.0         40.0   \n18805  zyqg4pYEioQ           20.0         30.0   \n18806  zzlK8KDqlr0          370.0        380.0   \n18807  zzya4dDVRLk           30.0         40.0   \n\n                                 positive_labels  \n0                          \"/m/09x0r,/t/dd00088\"  \n1                                    \"/m/012xff\"  \n2                   \"/m/03fwl,/m/04rlf,/m/09x0r\"  \n3                        \"/t/dd00003,/t/dd00005\"  \n4                          \"/m/032s66,/m/073cg4\"  \n...                                          ...  \n18803                       \"/m/028v0c,/m/09x0r\"  \n18804                      \"/m/04rlf,/t/dd00034\"  \n18805                        \"/m/09x0r,/m/0llzx\"  \n18806  \"/m/01m2v,/m/07qc9xj,/m/09x0r,/t/dd00125\"  \n18807                       \"/m/01v_m0,/m/0hdsk\"  \n\n[18808 rows x 4 columns]",
      "text/html": "<div>\n<style scoped>\n    .dataframe tbody tr th:only-of-type {\n        vertical-align: middle;\n    }\n\n    .dataframe tbody tr th {\n        vertical-align: top;\n    }\n\n    .dataframe thead th {\n        text-align: right;\n    }\n</style>\n<table border=\"1\" class=\"dataframe\">\n  <thead>\n    <tr style=\"text-align: right;\">\n      <th></th>\n      <th># YTID</th>\n      <th>start_seconds</th>\n      <th>end_seconds</th>\n      <th>positive_labels</th>\n    </tr>\n  </thead>\n  <tbody>\n    <tr>\n      <th>0</th>\n      <td>--PJHxphWEs</td>\n      <td>30.0</td>\n      <td>40.0</td>\n      <td>\"/m/09x0r,/t/dd00088\"</td>\n    </tr>\n    <tr>\n      <th>1</th>\n      <td>--ZhevVpy1s</td>\n      <td>50.0</td>\n      <td>60.0</td>\n      <td>\"/m/012xff\"</td>\n    </tr>\n    <tr>\n      <th>2</th>\n      <td>--aE2O5G5WE</td>\n      <td>0.0</td>\n      <td>10.0</td>\n      <td>\"/m/03fwl,/m/04rlf,/m/09x0r\"</td>\n    </tr>\n    <tr>\n      <th>3</th>\n      <td>--aO5cdqSAg</td>\n      <td>30.0</td>\n      <td>40.0</td>\n      <td>\"/t/dd00003,/t/dd00005\"</td>\n    </tr>\n    <tr>\n      <th>4</th>\n      <td>--aaILOrkII</td>\n      <td>200.0</td>\n      <td>210.0</td>\n      <td>\"/m/032s66,/m/073cg4\"</td>\n    </tr>\n    <tr>\n      <th>...</th>\n      <td>...</td>\n      <td>...</td>\n      <td>...</td>\n      <td>...</td>\n    </tr>\n    <tr>\n      <th>18803</th>\n      <td>zyGjrJfE_rg</td>\n      <td>120.0</td>\n      <td>130.0</td>\n      <td>\"/m/028v0c,/m/09x0r\"</td>\n    </tr>\n    <tr>\n      <th>18804</th>\n      <td>zyXa2tdBTGc</td>\n      <td>30.0</td>\n      <td>40.0</td>\n      <td>\"/m/04rlf,/t/dd00034\"</td>\n    </tr>\n    <tr>\n      <th>18805</th>\n      <td>zyqg4pYEioQ</td>\n      <td>20.0</td>\n      <td>30.0</td>\n      <td>\"/m/09x0r,/m/0llzx\"</td>\n    </tr>\n    <tr>\n      <th>18806</th>\n      <td>zzlK8KDqlr0</td>\n      <td>370.0</td>\n      <td>380.0</td>\n      <td>\"/m/01m2v,/m/07qc9xj,/m/09x0r,/t/dd00125\"</td>\n    </tr>\n    <tr>\n      <th>18807</th>\n      <td>zzya4dDVRLk</td>\n      <td>30.0</td>\n      <td>40.0</td>\n      <td>\"/m/01v_m0,/m/0hdsk\"</td>\n    </tr>\n  </tbody>\n</table>\n<p>18808 rows × 4 columns</p>\n</div>"
     },
     "execution_count": 78,
     "metadata": {},
     "output_type": "execute_result"
    }
   ],
   "source": [
    "# Drop any row contain danger label\n",
    "drop_features = drop_labels['mid'].to_list()\n",
    "\n",
    "# Filter and remove rows containing any of the drop_features\n",
    "download_list = download_list[~download_list['positive_labels'].str.contains('|'.join(drop_features))]\n",
    "\n",
    "# Reset the index of the DataFrame after dropping rows\n",
    "download_list.reset_index(drop=True, inplace=True)\n",
    "\n",
    "# Display the updated DataFrame\n",
    "download_list"
   ],
   "metadata": {
    "collapsed": false,
    "ExecuteTime": {
     "end_time": "2023-10-08T13:37:42.369141900Z",
     "start_time": "2023-10-08T13:37:42.322940700Z"
    }
   }
  },
  {
   "cell_type": "code",
   "execution_count": 84,
   "outputs": [
    {
     "data": {
      "text/plain": "            # YTID  start_seconds  end_seconds   \n13781  h3DVqb55DRQ           20.0         30.0  \\\n9849   UFAGCTDB7EY           30.0         40.0   \n6074   H0Zaevi3IUw          100.0        110.0   \n7501   LefXwJz6HCA           60.0         70.0   \n9919   US0al0-ySG4           30.0         40.0   \n...            ...            ...          ...   \n11854  _yqlQimkHpQ          260.0        270.0   \n4896   DBp853aSoHw          160.0        170.0   \n12270  b_KtUga1_pg          410.0        420.0   \n14700  kU5_oNlg1tE           30.0         40.0   \n17134  tRGV2rMjuKc            0.0          9.0   \n\n                                  positive_labels  \n13781  \"/m/025rv6n,/m/05_wcq,/m/07st89h,/m/09b5t\"  \n9849                          \"/m/032s66,/m/0_1c\"  \n6074   \"/m/015lz1,/m/04rlf,/t/dd00003,/t/dd00126\"  \n7501                        \"/m/02z32qm,/m/09x0r\"  \n9919                                 \"/m/07qlwh6\"  \n...                                           ...  \n11854             \"/m/015p6,/m/020bb7,/m/07pggtn\"  \n4896                         \"/m/019jd,/m/056ks2\"  \n12270                                 \"/m/06xkwv\"  \n14700                       \"/m/09x0r,/t/dd00018\"  \n17134                                \"/m/07rbp7_\"  \n\n[3200 rows x 4 columns]",
      "text/html": "<div>\n<style scoped>\n    .dataframe tbody tr th:only-of-type {\n        vertical-align: middle;\n    }\n\n    .dataframe tbody tr th {\n        vertical-align: top;\n    }\n\n    .dataframe thead th {\n        text-align: right;\n    }\n</style>\n<table border=\"1\" class=\"dataframe\">\n  <thead>\n    <tr style=\"text-align: right;\">\n      <th></th>\n      <th># YTID</th>\n      <th>start_seconds</th>\n      <th>end_seconds</th>\n      <th>positive_labels</th>\n    </tr>\n  </thead>\n  <tbody>\n    <tr>\n      <th>13781</th>\n      <td>h3DVqb55DRQ</td>\n      <td>20.0</td>\n      <td>30.0</td>\n      <td>\"/m/025rv6n,/m/05_wcq,/m/07st89h,/m/09b5t\"</td>\n    </tr>\n    <tr>\n      <th>9849</th>\n      <td>UFAGCTDB7EY</td>\n      <td>30.0</td>\n      <td>40.0</td>\n      <td>\"/m/032s66,/m/0_1c\"</td>\n    </tr>\n    <tr>\n      <th>6074</th>\n      <td>H0Zaevi3IUw</td>\n      <td>100.0</td>\n      <td>110.0</td>\n      <td>\"/m/015lz1,/m/04rlf,/t/dd00003,/t/dd00126\"</td>\n    </tr>\n    <tr>\n      <th>7501</th>\n      <td>LefXwJz6HCA</td>\n      <td>60.0</td>\n      <td>70.0</td>\n      <td>\"/m/02z32qm,/m/09x0r\"</td>\n    </tr>\n    <tr>\n      <th>9919</th>\n      <td>US0al0-ySG4</td>\n      <td>30.0</td>\n      <td>40.0</td>\n      <td>\"/m/07qlwh6\"</td>\n    </tr>\n    <tr>\n      <th>...</th>\n      <td>...</td>\n      <td>...</td>\n      <td>...</td>\n      <td>...</td>\n    </tr>\n    <tr>\n      <th>11854</th>\n      <td>_yqlQimkHpQ</td>\n      <td>260.0</td>\n      <td>270.0</td>\n      <td>\"/m/015p6,/m/020bb7,/m/07pggtn\"</td>\n    </tr>\n    <tr>\n      <th>4896</th>\n      <td>DBp853aSoHw</td>\n      <td>160.0</td>\n      <td>170.0</td>\n      <td>\"/m/019jd,/m/056ks2\"</td>\n    </tr>\n    <tr>\n      <th>12270</th>\n      <td>b_KtUga1_pg</td>\n      <td>410.0</td>\n      <td>420.0</td>\n      <td>\"/m/06xkwv\"</td>\n    </tr>\n    <tr>\n      <th>14700</th>\n      <td>kU5_oNlg1tE</td>\n      <td>30.0</td>\n      <td>40.0</td>\n      <td>\"/m/09x0r,/t/dd00018\"</td>\n    </tr>\n    <tr>\n      <th>17134</th>\n      <td>tRGV2rMjuKc</td>\n      <td>0.0</td>\n      <td>9.0</td>\n      <td>\"/m/07rbp7_\"</td>\n    </tr>\n  </tbody>\n</table>\n<p>3200 rows × 4 columns</p>\n</div>"
     },
     "execution_count": 84,
     "metadata": {},
     "output_type": "execute_result"
    }
   ],
   "source": [
    "# Sample 3200 data points from the DataFrame\n",
    "sample_list = download_list.sample(n=3200, random_state=42)  # You can change the random_state for reproducibility\n",
    "\n",
    "# Save the sampled data to a CSV file\n",
    "sample_list.to_csv('Data/ControlDataLink.csv', index=False)\n",
    "\n",
    "# Display the first few rows of the sampled data\n",
    "sample_list"
   ],
   "metadata": {
    "collapsed": false,
    "ExecuteTime": {
     "end_time": "2023-10-08T13:43:02.852543100Z",
     "start_time": "2023-10-08T13:43:02.833079300Z"
    }
   }
  },
  {
   "cell_type": "code",
   "execution_count": 85,
   "outputs": [],
   "source": [
    "# Function to trim audio using FFmpeg\n",
    "def trim_audio(input_file, output_file, start_time, end_time):\n",
    "    command = (\n",
    "        f'ffmpeg -loglevel quiet -i \"{input_file}\" -ss {start_time} -to {end_time} \"{output_file}\"'\n",
    "    )\n",
    "    os.system(command)"
   ],
   "metadata": {
    "collapsed": false,
    "ExecuteTime": {
     "end_time": "2023-10-08T13:43:03.780174100Z",
     "start_time": "2023-10-08T13:43:03.774577600Z"
    }
   }
  },
  {
   "cell_type": "code",
   "execution_count": null,
   "outputs": [],
   "source": [
    "import os\n",
    "import yt_dlp\n",
    "\n",
    "# Create a directory to store downloaded audio files if it doesn't exist\n",
    "output_dir = 'Data/NotScreaming'\n",
    "os.makedirs(output_dir, exist_ok=True)\n",
    "\n",
    "# Create a yt-dlp instance\n",
    "ydl_opts = {\n",
    "    'format': 'bestaudio/best',\n",
    "    'postprocessors': [{\n",
    "        'key': 'FFmpegExtractAudio',\n",
    "        'preferredcodec': 'wav',\n",
    "        'preferredquality': '1920',\n",
    "    }],\n",
    "    'outtmpl': os.path.join(output_dir, '%(id)s.%(ext)s'),\n",
    "}\n",
    "\n",
    "ydl = yt_dlp.YoutubeDL(ydl_opts)\n",
    "\n",
    "# Loop through each row in the DataFrame and download the audio\n",
    "for index, row in sample_list.iterrows():\n",
    "    yt_id = row['# YTID']\n",
    "    start_seconds = row['start_seconds']\n",
    "    end_seconds = row['end_seconds']\n",
    "\n",
    "    # Construct the URL with time offsets\n",
    "    url = f'https://www.youtube.com/watch?v={yt_id}'\n",
    "\n",
    "    try:\n",
    "        # Download the audio\n",
    "        ydl.download([url])\n",
    "        print(f\"Downloaded audio for YTID {yt_id}\")\n",
    "\n",
    "        # Rename the downloaded file to match the YTID\n",
    "        downloaded_file = os.path.join(output_dir, f\"{yt_id}.wav\")\n",
    "        trimmed_file = os.path.join(output_dir, f\"{yt_id}_out.wav\")\n",
    "\n",
    "        # Trim the audio using FFmpeg\n",
    "        trim_audio(downloaded_file, trimmed_file, start_seconds, end_seconds)\n",
    "\n",
    "        # Remove the original downloaded file\n",
    "        os.remove(downloaded_file)\n",
    "\n",
    "        print(f\"Trimmed audio for YTID {yt_id}\")\n",
    "    except Exception as e:\n",
    "        print(f\"Error downloading audio for YTID {yt_id}: {str(e)}\")\n",
    "\n",
    "print(\"Download and trimming completed.\")"
   ],
   "metadata": {
    "collapsed": false
   }
  },
  {
   "cell_type": "code",
   "execution_count": null,
   "outputs": [],
   "source": [],
   "metadata": {
    "collapsed": false
   }
  }
 ],
 "metadata": {
  "kernelspec": {
   "display_name": "Python 3",
   "language": "python",
   "name": "python3"
  },
  "language_info": {
   "codemirror_mode": {
    "name": "ipython",
    "version": 2
   },
   "file_extension": ".py",
   "mimetype": "text/x-python",
   "name": "python",
   "nbconvert_exporter": "python",
   "pygments_lexer": "ipython2",
   "version": "2.7.6"
  }
 },
 "nbformat": 4,
 "nbformat_minor": 0
}
